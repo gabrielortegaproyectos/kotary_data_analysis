{
 "cells": [
  {
   "cell_type": "markdown",
   "metadata": {},
   "source": [
    "# 1. Análisis Exploratorio de Datos (EDA) - Preguntas de Ciencia\n",
    "\n",
    "**Objetivo:** Analizar el conjunto de datos `cien_demre_nn.csv` para entender su estructura, contenido y calidad. Específicamente, se busca:\n",
    "1. Determinar el número de filas (preguntas).\n",
    "2. Identificar las columnas, su tipo de dato y su significado.\n",
    "3. Cuantificar los valores faltantes en cada columna."
   ]
  },
  {
   "cell_type": "code",
   "execution_count": 1,
   "metadata": {},
   "outputs": [
    {
     "name": "stdout",
     "output_type": "stream",
     "text": [
      "The kedro.ipython extension is already loaded. To reload it, use:\n",
      "  %reload_ext kedro.ipython\n"
     ]
    },
    {
     "data": {
      "text/html": [
       "<pre style=\"white-space:pre;overflow-x:auto;line-height:normal;font-family:Menlo,'DejaVu Sans Mono',consolas,'Courier New',monospace\"><span style=\"color: #7fbfbf; text-decoration-color: #7fbfbf\">[10/03/25 15:25:30] </span><span style=\"color: #000080; text-decoration-color: #000080\">INFO    </span> Resolved project path as:                                              <a href=\"file:///home/gabriel/Escritorio/Proyectos/Proyectos_datos/Magister/aqde-gemini-embedding-ciencia/.venv/lib/python3.11/site-packages/kedro/ipython/__init__.py\" target=\"_blank\"><span style=\"color: #7f7f7f; text-decoration-color: #7f7f7f\">__init__.py</span></a><span style=\"color: #7f7f7f; text-decoration-color: #7f7f7f\">:</span><a href=\"file:///home/gabriel/Escritorio/Proyectos/Proyectos_datos/Magister/aqde-gemini-embedding-ciencia/.venv/lib/python3.11/site-packages/kedro/ipython/__init__.py#180\" target=\"_blank\"><span style=\"color: #7f7f7f; text-decoration-color: #7f7f7f\">180</span></a>\n",
       "<span style=\"color: #7fbfbf; text-decoration-color: #7fbfbf\">                    </span>         <span style=\"color: #800080; text-decoration-color: #800080\">/home/gabriel/Escritorio/Proyectos/Proyectos_datos/Magister/</span><span style=\"color: #ff00ff; text-decoration-color: #ff00ff\">aqde-gemin</span> <span style=\"color: #7f7f7f; text-decoration-color: #7f7f7f\">               </span>\n",
       "<span style=\"color: #7fbfbf; text-decoration-color: #7fbfbf\">                    </span>         <span style=\"color: #ff00ff; text-decoration-color: #ff00ff\">i-embedding-ciencia.</span>                                                   <span style=\"color: #7f7f7f; text-decoration-color: #7f7f7f\">               </span>\n",
       "<span style=\"color: #7fbfbf; text-decoration-color: #7fbfbf\">                    </span>         To set a different path, run <span style=\"color: #008000; text-decoration-color: #008000\">'%reload_kedro &lt;project_root&gt;'</span>            <span style=\"color: #7f7f7f; text-decoration-color: #7f7f7f\">               </span>\n",
       "</pre>\n"
      ],
      "text/plain": [
       "\u001b[2;36m[10/03/25 15:25:30]\u001b[0m\u001b[2;36m \u001b[0m\u001b[34mINFO    \u001b[0m Resolved project path as:                                              \u001b]8;id=514189;file:///home/gabriel/Escritorio/Proyectos/Proyectos_datos/Magister/aqde-gemini-embedding-ciencia/.venv/lib/python3.11/site-packages/kedro/ipython/__init__.py\u001b\\\u001b[2m__init__.py\u001b[0m\u001b]8;;\u001b\\\u001b[2m:\u001b[0m\u001b]8;id=405284;file:///home/gabriel/Escritorio/Proyectos/Proyectos_datos/Magister/aqde-gemini-embedding-ciencia/.venv/lib/python3.11/site-packages/kedro/ipython/__init__.py#180\u001b\\\u001b[2m180\u001b[0m\u001b]8;;\u001b\\\n",
       "\u001b[2;36m                    \u001b[0m         \u001b[35m/home/gabriel/Escritorio/Proyectos/Proyectos_datos/Magister/\u001b[0m\u001b[95maqde-gemin\u001b[0m \u001b[2m               \u001b[0m\n",
       "\u001b[2;36m                    \u001b[0m         \u001b[95mi-embedding-ciencia.\u001b[0m                                                   \u001b[2m               \u001b[0m\n",
       "\u001b[2;36m                    \u001b[0m         To set a different path, run \u001b[32m'%reload_kedro \u001b[0m\u001b[32m<\u001b[0m\u001b[32mproject_root\u001b[0m\u001b[32m>\u001b[0m\u001b[32m'\u001b[0m            \u001b[2m               \u001b[0m\n"
      ]
     },
     "metadata": {},
     "output_type": "display_data"
    },
    {
     "data": {
      "text/html": [
       "<pre style=\"white-space:pre;overflow-x:auto;line-height:normal;font-family:Menlo,'DejaVu Sans Mono',consolas,'Courier New',monospace\"><span style=\"color: #7fbfbf; text-decoration-color: #7fbfbf\">[10/03/25 15:25:31] </span><span style=\"color: #000080; text-decoration-color: #000080\">INFO    </span> Kedro is sending anonymous usage data with the sole purpose of improving <a href=\"file:///home/gabriel/Escritorio/Proyectos/Proyectos_datos/Magister/aqde-gemini-embedding-ciencia/.venv/lib/python3.11/site-packages/kedro_telemetry/plugin.py\" target=\"_blank\"><span style=\"color: #7f7f7f; text-decoration-color: #7f7f7f\">plugin.py</span></a><span style=\"color: #7f7f7f; text-decoration-color: #7f7f7f\">:</span><a href=\"file:///home/gabriel/Escritorio/Proyectos/Proyectos_datos/Magister/aqde-gemini-embedding-ciencia/.venv/lib/python3.11/site-packages/kedro_telemetry/plugin.py#243\" target=\"_blank\"><span style=\"color: #7f7f7f; text-decoration-color: #7f7f7f\">243</span></a>\n",
       "<span style=\"color: #7fbfbf; text-decoration-color: #7fbfbf\">                    </span>         the product. No personal data or IP addresses are stored on our side. To <span style=\"color: #7f7f7f; text-decoration-color: #7f7f7f\">             </span>\n",
       "<span style=\"color: #7fbfbf; text-decoration-color: #7fbfbf\">                    </span>         opt out, set the `KEDRO_DISABLE_TELEMETRY` or `DO_NOT_TRACK` environment <span style=\"color: #7f7f7f; text-decoration-color: #7f7f7f\">             </span>\n",
       "<span style=\"color: #7fbfbf; text-decoration-color: #7fbfbf\">                    </span>         variables, or create a `.telemetry` file in the current working          <span style=\"color: #7f7f7f; text-decoration-color: #7f7f7f\">             </span>\n",
       "<span style=\"color: #7fbfbf; text-decoration-color: #7fbfbf\">                    </span>         directory with the contents `consent: false`. To hide this message,      <span style=\"color: #7f7f7f; text-decoration-color: #7f7f7f\">             </span>\n",
       "<span style=\"color: #7fbfbf; text-decoration-color: #7fbfbf\">                    </span>         explicitly grant or deny consent. Read more at                           <span style=\"color: #7f7f7f; text-decoration-color: #7f7f7f\">             </span>\n",
       "<span style=\"color: #7fbfbf; text-decoration-color: #7fbfbf\">                    </span>         <span style=\"color: #0000ff; text-decoration-color: #0000ff; text-decoration: underline\">https://docs.kedro.org/en/stable/configuration/telemetry.html</span>            <span style=\"color: #7f7f7f; text-decoration-color: #7f7f7f\">             </span>\n",
       "</pre>\n"
      ],
      "text/plain": [
       "\u001b[2;36m[10/03/25 15:25:31]\u001b[0m\u001b[2;36m \u001b[0m\u001b[34mINFO    \u001b[0m Kedro is sending anonymous usage data with the sole purpose of improving \u001b]8;id=646044;file:///home/gabriel/Escritorio/Proyectos/Proyectos_datos/Magister/aqde-gemini-embedding-ciencia/.venv/lib/python3.11/site-packages/kedro_telemetry/plugin.py\u001b\\\u001b[2mplugin.py\u001b[0m\u001b]8;;\u001b\\\u001b[2m:\u001b[0m\u001b]8;id=152146;file:///home/gabriel/Escritorio/Proyectos/Proyectos_datos/Magister/aqde-gemini-embedding-ciencia/.venv/lib/python3.11/site-packages/kedro_telemetry/plugin.py#243\u001b\\\u001b[2m243\u001b[0m\u001b]8;;\u001b\\\n",
       "\u001b[2;36m                    \u001b[0m         the product. No personal data or IP addresses are stored on our side. To \u001b[2m             \u001b[0m\n",
       "\u001b[2;36m                    \u001b[0m         opt out, set the `KEDRO_DISABLE_TELEMETRY` or `DO_NOT_TRACK` environment \u001b[2m             \u001b[0m\n",
       "\u001b[2;36m                    \u001b[0m         variables, or create a `.telemetry` file in the current working          \u001b[2m             \u001b[0m\n",
       "\u001b[2;36m                    \u001b[0m         directory with the contents `consent: false`. To hide this message,      \u001b[2m             \u001b[0m\n",
       "\u001b[2;36m                    \u001b[0m         explicitly grant or deny consent. Read more at                           \u001b[2m             \u001b[0m\n",
       "\u001b[2;36m                    \u001b[0m         \u001b[4;94mhttps://docs.kedro.org/en/stable/configuration/telemetry.html\u001b[0m            \u001b[2m             \u001b[0m\n"
      ]
     },
     "metadata": {},
     "output_type": "display_data"
    },
    {
     "data": {
      "text/html": [
       "<pre style=\"white-space:pre;overflow-x:auto;line-height:normal;font-family:Menlo,'DejaVu Sans Mono',consolas,'Courier New',monospace\"><span style=\"color: #7fbfbf; text-decoration-color: #7fbfbf\">                    </span><span style=\"color: #000080; text-decoration-color: #000080\">INFO    </span> Kedro project AQDE-gemini-embedding-ciencia                            <a href=\"file:///home/gabriel/Escritorio/Proyectos/Proyectos_datos/Magister/aqde-gemini-embedding-ciencia/.venv/lib/python3.11/site-packages/kedro/ipython/__init__.py\" target=\"_blank\"><span style=\"color: #7f7f7f; text-decoration-color: #7f7f7f\">__init__.py</span></a><span style=\"color: #7f7f7f; text-decoration-color: #7f7f7f\">:</span><a href=\"file:///home/gabriel/Escritorio/Proyectos/Proyectos_datos/Magister/aqde-gemini-embedding-ciencia/.venv/lib/python3.11/site-packages/kedro/ipython/__init__.py#146\" target=\"_blank\"><span style=\"color: #7f7f7f; text-decoration-color: #7f7f7f\">146</span></a>\n",
       "</pre>\n"
      ],
      "text/plain": [
       "\u001b[2;36m                   \u001b[0m\u001b[2;36m \u001b[0m\u001b[34mINFO    \u001b[0m Kedro project AQDE-gemini-embedding-ciencia                            \u001b]8;id=340548;file:///home/gabriel/Escritorio/Proyectos/Proyectos_datos/Magister/aqde-gemini-embedding-ciencia/.venv/lib/python3.11/site-packages/kedro/ipython/__init__.py\u001b\\\u001b[2m__init__.py\u001b[0m\u001b]8;;\u001b\\\u001b[2m:\u001b[0m\u001b]8;id=72721;file:///home/gabriel/Escritorio/Proyectos/Proyectos_datos/Magister/aqde-gemini-embedding-ciencia/.venv/lib/python3.11/site-packages/kedro/ipython/__init__.py#146\u001b\\\u001b[2m146\u001b[0m\u001b]8;;\u001b\\\n"
      ]
     },
     "metadata": {},
     "output_type": "display_data"
    },
    {
     "data": {
      "text/html": [
       "<pre style=\"white-space:pre;overflow-x:auto;line-height:normal;font-family:Menlo,'DejaVu Sans Mono',consolas,'Courier New',monospace\"><span style=\"color: #7fbfbf; text-decoration-color: #7fbfbf\">                    </span><span style=\"color: #000080; text-decoration-color: #000080\">INFO    </span> Defined global variable <span style=\"color: #008000; text-decoration-color: #008000\">'context'</span>, <span style=\"color: #008000; text-decoration-color: #008000\">'session'</span>, <span style=\"color: #008000; text-decoration-color: #008000\">'catalog'</span> and            <a href=\"file:///home/gabriel/Escritorio/Proyectos/Proyectos_datos/Magister/aqde-gemini-embedding-ciencia/.venv/lib/python3.11/site-packages/kedro/ipython/__init__.py\" target=\"_blank\"><span style=\"color: #7f7f7f; text-decoration-color: #7f7f7f\">__init__.py</span></a><span style=\"color: #7f7f7f; text-decoration-color: #7f7f7f\">:</span><a href=\"file:///home/gabriel/Escritorio/Proyectos/Proyectos_datos/Magister/aqde-gemini-embedding-ciencia/.venv/lib/python3.11/site-packages/kedro/ipython/__init__.py#147\" target=\"_blank\"><span style=\"color: #7f7f7f; text-decoration-color: #7f7f7f\">147</span></a>\n",
       "<span style=\"color: #7fbfbf; text-decoration-color: #7fbfbf\">                    </span>         <span style=\"color: #008000; text-decoration-color: #008000\">'pipelines'</span>                                                            <span style=\"color: #7f7f7f; text-decoration-color: #7f7f7f\">               </span>\n",
       "</pre>\n"
      ],
      "text/plain": [
       "\u001b[2;36m                   \u001b[0m\u001b[2;36m \u001b[0m\u001b[34mINFO    \u001b[0m Defined global variable \u001b[32m'context'\u001b[0m, \u001b[32m'session'\u001b[0m, \u001b[32m'catalog'\u001b[0m and            \u001b]8;id=552558;file:///home/gabriel/Escritorio/Proyectos/Proyectos_datos/Magister/aqde-gemini-embedding-ciencia/.venv/lib/python3.11/site-packages/kedro/ipython/__init__.py\u001b\\\u001b[2m__init__.py\u001b[0m\u001b]8;;\u001b\\\u001b[2m:\u001b[0m\u001b]8;id=300959;file:///home/gabriel/Escritorio/Proyectos/Proyectos_datos/Magister/aqde-gemini-embedding-ciencia/.venv/lib/python3.11/site-packages/kedro/ipython/__init__.py#147\u001b\\\u001b[2m147\u001b[0m\u001b]8;;\u001b\\\n",
       "\u001b[2;36m                    \u001b[0m         \u001b[32m'pipelines'\u001b[0m                                                            \u001b[2m               \u001b[0m\n"
      ]
     },
     "metadata": {},
     "output_type": "display_data"
    }
   ],
   "source": [
    "# Cargar la sesión de Kedro para acceder al catálogo de datos\n",
    "%load_ext kedro.ipython\n",
    "%reload_kedro"
   ]
  },
  {
   "cell_type": "markdown",
   "metadata": {},
   "source": [
    "## Carga de Datos\n",
    "Cargamos el conjunto de datos `science_mcq_raw` definido en `conf/base/catalog.yml`."
   ]
  },
  {
   "cell_type": "code",
   "execution_count": 7,
   "metadata": {},
   "outputs": [
    {
     "data": {
      "text/html": [
       "<pre style=\"white-space:pre;overflow-x:auto;line-height:normal;font-family:Menlo,'DejaVu Sans Mono',consolas,'Courier New',monospace\"><span style=\"color: #7fbfbf; text-decoration-color: #7fbfbf\">[10/03/25 15:31:12] </span><span style=\"color: #000080; text-decoration-color: #000080\">INFO    </span> Loading data from <span style=\"color: #ff8700; text-decoration-color: #ff8700\">science_mcq_raw</span> <span style=\"font-weight: bold\">(</span>CSVDataset<span style=\"font-weight: bold\">)</span><span style=\"color: #808000; text-decoration-color: #808000\">...</span>                 <a href=\"file:///home/gabriel/Escritorio/Proyectos/Proyectos_datos/Magister/aqde-gemini-embedding-ciencia/.venv/lib/python3.11/site-packages/kedro/io/data_catalog.py\" target=\"_blank\"><span style=\"color: #7f7f7f; text-decoration-color: #7f7f7f\">data_catalog.py</span></a><span style=\"color: #7f7f7f; text-decoration-color: #7f7f7f\">:</span><a href=\"file:///home/gabriel/Escritorio/Proyectos/Proyectos_datos/Magister/aqde-gemini-embedding-ciencia/.venv/lib/python3.11/site-packages/kedro/io/data_catalog.py#1046\" target=\"_blank\"><span style=\"color: #7f7f7f; text-decoration-color: #7f7f7f\">1046</span></a>\n",
       "</pre>\n"
      ],
      "text/plain": [
       "\u001b[2;36m[10/03/25 15:31:12]\u001b[0m\u001b[2;36m \u001b[0m\u001b[34mINFO    \u001b[0m Loading data from \u001b[38;5;208mscience_mcq_raw\u001b[0m \u001b[1m(\u001b[0mCSVDataset\u001b[1m)\u001b[0m\u001b[33m...\u001b[0m                 \u001b]8;id=861921;file:///home/gabriel/Escritorio/Proyectos/Proyectos_datos/Magister/aqde-gemini-embedding-ciencia/.venv/lib/python3.11/site-packages/kedro/io/data_catalog.py\u001b\\\u001b[2mdata_catalog.py\u001b[0m\u001b]8;;\u001b\\\u001b[2m:\u001b[0m\u001b]8;id=13338;file:///home/gabriel/Escritorio/Proyectos/Proyectos_datos/Magister/aqde-gemini-embedding-ciencia/.venv/lib/python3.11/site-packages/kedro/io/data_catalog.py#1046\u001b\\\u001b[2m1046\u001b[0m\u001b]8;;\u001b\\\n"
      ]
     },
     "metadata": {},
     "output_type": "display_data"
    }
   ],
   "source": [
    "data = catalog.load(\"science_mcq_raw\")"
   ]
  },
  {
   "cell_type": "markdown",
   "metadata": {},
   "source": [
    "## 1. Número de Filas"
   ]
  },
  {
   "cell_type": "code",
   "execution_count": 8,
   "metadata": {},
   "outputs": [
    {
     "name": "stdout",
     "output_type": "stream",
     "text": [
      "La base de datos tiene 2900 filas.\n"
     ]
    }
   ],
   "source": [
    "num_rows = data.shape[0]\n",
    "print(f\"La base de datos tiene {num_rows} filas.\")"
   ]
  },
  {
   "cell_type": "markdown",
   "metadata": {},
   "source": [
    "## 2. Tipos de Datos y Valores Faltantes"
   ]
  },
  {
   "cell_type": "code",
   "execution_count": 9,
   "metadata": {},
   "outputs": [
    {
     "name": "stdout",
     "output_type": "stream",
     "text": [
      "Información general del DataFrame:\n",
      "<class 'pandas.core.frame.DataFrame'>\n",
      "RangeIndex: 2900 entries, 0 to 2899\n",
      "Data columns (total 11 columns):\n",
      " #   Column      Non-Null Count  Dtype  \n",
      "---  ------      --------------  -----  \n",
      " 0   Unnamed: 0  2900 non-null   int64  \n",
      " 1   prompt      2900 non-null   object \n",
      " 2   choice_0    2900 non-null   object \n",
      " 3   choice_1    2900 non-null   object \n",
      " 4   choice_2    2900 non-null   object \n",
      " 5   choice_3    2900 non-null   object \n",
      " 6   choice_4    2900 non-null   object \n",
      " 7   subject     2900 non-null   object \n",
      " 8   key         2900 non-null   float64\n",
      " 9   DIFICULTAD  2900 non-null   float64\n",
      " 10  flag        2900 non-null   object \n",
      "dtypes: float64(2), int64(1), object(8)\n",
      "memory usage: 249.3+ KB\n"
     ]
    }
   ],
   "source": [
    "print(\"Información general del DataFrame:\")\n",
    "data.info()"
   ]
  },
  {
   "cell_type": "markdown",
   "metadata": {},
   "source": [
    "A continuación se presenta un resumen de los valores nulos por columna y una interpretación preliminar de cada una:"
   ]
  },
  {
   "cell_type": "code",
   "execution_count": 11,
   "metadata": {},
   "outputs": [
    {
     "name": "stdout",
     "output_type": "stream",
     "text": [
      "\n",
      "Valores faltantes por columna:\n",
      "Unnamed: 0    0\n",
      "prompt        0\n",
      "choice_0      0\n",
      "choice_1      0\n",
      "choice_2      0\n",
      "choice_3      0\n",
      "choice_4      0\n",
      "subject       0\n",
      "key           0\n",
      "DIFICULTAD    0\n",
      "flag          0\n",
      "dtype: int64\n"
     ]
    }
   ],
   "source": [
    "missing_values = data.isnull().sum()\n",
    "print(\"\\nValores faltantes por columna:\")\n",
    "print(missing_values)"
   ]
  },
  {
   "cell_type": "markdown",
   "metadata": {},
   "source": [
    "### Interpretación de Columnas\n",
    "\n",
    "- **Unnamed: 0**: Índice del dataset original. *(Tipo: numérico)*.\n",
    "- **prompt**: El enunciado o cuerpo principal de la pregunta. *(Tipo: texto/object)*.\n",
    "- **choice_0, choice_1, choice_2, choice_3, choice_4**: El texto de cada una de las 5 alternativas de respuesta. *(Tipo: texto/object)*.\n",
    "- **subject**: La materia o asignatura a la que pertenece la pregunta. *(Tipo: texto/object)*.\n",
    "- **key**: La alternativa correcta (valor numérico: 0-4). *(Tipo: numérico/flotante)*.\n",
    "- **DIFICULTAD**: El parámetro de dificultad de la pregunta, nuestra variable objetivo. *(Tipo: numérico/flotante)*.\n",
    "- **flag**: Variable categórica adicional que podría indicar algún tipo de clasificación o etiqueta. *(Tipo: texto/object)*."
   ]
  },
  {
   "cell_type": "markdown",
   "metadata": {},
   "source": [
    "## 3. Análisis de Valores Únicos\n",
    "\n",
    "Es importante entender la diversidad de datos en cada columna para identificar patrones y características del dataset."
   ]
  },
  {
   "cell_type": "code",
   "execution_count": 13,
   "metadata": {},
   "outputs": [
    {
     "name": "stdout",
     "output_type": "stream",
     "text": [
      "Número de valores únicos por columna:\n",
      "========================================\n",
      "Unnamed: 0      : 2,900 valores únicos\n",
      "prompt          : 941 valores únicos\n",
      "choice_0        : 746 valores únicos\n",
      "choice_1        : 737 valores únicos\n",
      "choice_2        : 739 valores únicos\n",
      "choice_3        : 738 valores únicos\n",
      "choice_4        : 736 valores únicos\n",
      "subject         : 1 valores únicos\n",
      "key             : 5 valores únicos\n",
      "DIFICULTAD      : 779 valores únicos\n",
      "flag            : 2 valores únicos\n",
      "\n",
      "========================================\n",
      "Porcentaje de valores únicos respecto al total de filas:\n",
      "========================================\n",
      "Unnamed: 0      : 100.00%\n",
      "prompt          :  32.45%\n",
      "choice_0        :  25.72%\n",
      "choice_1        :  25.41%\n",
      "choice_2        :  25.48%\n",
      "choice_3        :  25.45%\n",
      "choice_4        :  25.38%\n",
      "subject         :   0.03%\n",
      "key             :   0.17%\n",
      "DIFICULTAD      :  26.86%\n",
      "flag            :   0.07%\n"
     ]
    }
   ],
   "source": [
    "# Contar valores únicos por columna\n",
    "unique_counts = data.nunique()\n",
    "print(\"Número de valores únicos por columna:\")\n",
    "print(\"=\" * 40)\n",
    "for column, count in unique_counts.items():\n",
    "    print(f\"{column:15} : {count:,} valores únicos\")\n",
    "\n",
    "# Calcular el porcentaje de valores únicos respecto al total\n",
    "print(\"\\n\" + \"=\" * 40)\n",
    "print(\"Porcentaje de valores únicos respecto al total de filas:\")\n",
    "print(\"=\" * 40)\n",
    "for column, count in unique_counts.items():\n",
    "    percentage = (count / len(data)) * 100\n",
    "    print(f\"{column:15} : {percentage:6.2f}%\")"
   ]
  },
  {
   "cell_type": "markdown",
   "metadata": {},
   "source": [
    "### Análisis Detallado de Variables Categóricas\n",
    "\n",
    "Examinemos más de cerca las variables con pocos valores únicos para entender mejor su distribución."
   ]
  },
  {
   "cell_type": "code",
   "execution_count": 14,
   "metadata": {},
   "outputs": [
    {
     "name": "stdout",
     "output_type": "stream",
     "text": [
      "\n",
      "--- Distribución de 'subject' ---\n",
      "subject\n",
      "ciencia    2900\n",
      "Name: count, dtype: int64\n",
      "\n",
      "Porcentajes para 'subject':\n",
      "  ciencia: 100.00%\n",
      "\n",
      "--- Distribución de 'key' ---\n",
      "key\n",
      "4.0    652\n",
      "3.0    599\n",
      "2.0    579\n",
      "1.0    579\n",
      "0.0    491\n",
      "Name: count, dtype: int64\n",
      "\n",
      "Porcentajes para 'key':\n",
      "  4.0: 22.48%\n",
      "  3.0: 20.66%\n",
      "  2.0: 19.97%\n",
      "  1.0: 19.97%\n",
      "  0.0: 16.93%\n",
      "\n",
      "--- Distribución de 'flag' ---\n",
      "flag\n",
      "train    2175\n",
      "test      725\n",
      "Name: count, dtype: int64\n",
      "\n",
      "Porcentajes para 'flag':\n",
      "  train: 75.00%\n",
      "  test: 25.00%\n"
     ]
    }
   ],
   "source": [
    "# Analizar variables con pocos valores únicos (categóricas)\n",
    "categorical_vars = ['subject', 'key', 'flag']\n",
    "\n",
    "for var in categorical_vars:\n",
    "    print(f\"\\n--- Distribución de '{var}' ---\")\n",
    "    value_counts = data[var].value_counts()\n",
    "    print(value_counts)\n",
    "    \n",
    "    # Calcular porcentajes\n",
    "    print(f\"\\nPorcentajes para '{var}':\")\n",
    "    percentages = data[var].value_counts(normalize=True) * 100\n",
    "    for value, percentage in percentages.items():\n",
    "        print(f\"  {value}: {percentage:.2f}%\")"
   ]
  }
 ],
 "metadata": {
  "kernelspec": {
   "display_name": "Kedro (aqde_gemini_embedding_ciencia)",
   "language": "python",
   "name": "kedro_aqde_gemini_embedding_ciencia"
  },
  "language_info": {
   "codemirror_mode": {
    "name": "ipython",
    "version": 3
   },
   "file_extension": ".py",
   "mimetype": "text/x-python",
   "name": "python",
   "nbconvert_exporter": "python",
   "pygments_lexer": "ipython3",
   "version": "3.11.10"
  }
 },
 "nbformat": 4,
 "nbformat_minor": 4
}
