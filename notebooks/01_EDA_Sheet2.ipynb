{
 "cells": [
  {
   "cell_type": "markdown",
   "metadata": {},
   "source": [
    "# 1. Análisis Exploratorio de Datos (EDA) - Hoja 2: LISTADO EMPRESA\n",
    "\n",
    "**Objetivo:** Analizar exclusivamente la hoja \"LISTADO EMPRESA\" del conjunto de datos de minería para entender su estructura, contenido y calidad. Específicamente, se busca:\n",
    "1. Determinar el número de filas.\n",
    "2. Identificar las columnas, su tipo de dato y su significado.\n",
    "3. Cuantificar los valores faltantes en cada columna.\n",
    "4. Analizar la distribución de valores únicos y categóricos."
   ]
  },
  {
   "cell_type": "code",
   "execution_count": 25,
   "metadata": {},
   "outputs": [
    {
     "name": "stdout",
     "output_type": "stream",
     "text": [
      "The kedro.ipython extension is already loaded. To reload it, use:\n",
      "  %reload_ext kedro.ipython\n"
     ]
    },
    {
     "data": {
      "text/html": [
       "<pre style=\"white-space:pre;overflow-x:auto;line-height:normal;font-family:Menlo,'DejaVu Sans Mono',consolas,'Courier New',monospace\"><span style=\"color: #7fbfbf; text-decoration-color: #7fbfbf\">[10/18/25 21:37:25] </span><span style=\"color: #000080; text-decoration-color: #000080\">INFO    </span> Resolved project path as:                                              <a href=\"file:///home/gabriel/Escritorio/Proyectos/UBO/Erik_Escalona/kotari_proyecto/kotari-gender-data-analysis/.venv/lib/python3.11/site-packages/kedro/ipython/__init__.py\" target=\"_blank\"><span style=\"color: #7f7f7f; text-decoration-color: #7f7f7f\">__init__.py</span></a><span style=\"color: #7f7f7f; text-decoration-color: #7f7f7f\">:</span><a href=\"file:///home/gabriel/Escritorio/Proyectos/UBO/Erik_Escalona/kotari_proyecto/kotari-gender-data-analysis/.venv/lib/python3.11/site-packages/kedro/ipython/__init__.py#180\" target=\"_blank\"><span style=\"color: #7f7f7f; text-decoration-color: #7f7f7f\">180</span></a>\n",
       "<span style=\"color: #7fbfbf; text-decoration-color: #7fbfbf\">                    </span>         <span style=\"color: #800080; text-decoration-color: #800080\">/home/gabriel/Escritorio/Proyectos/UBO/Erik_Escalona/kotari_proyecto/</span><span style=\"color: #ff00ff; text-decoration-color: #ff00ff\">k</span> <span style=\"color: #7f7f7f; text-decoration-color: #7f7f7f\">               </span>\n",
       "<span style=\"color: #7fbfbf; text-decoration-color: #7fbfbf\">                    </span>         <span style=\"color: #ff00ff; text-decoration-color: #ff00ff\">otari-gender-data-analysis.</span>                                            <span style=\"color: #7f7f7f; text-decoration-color: #7f7f7f\">               </span>\n",
       "<span style=\"color: #7fbfbf; text-decoration-color: #7fbfbf\">                    </span>         To set a different path, run <span style=\"color: #008000; text-decoration-color: #008000\">'%reload_kedro &lt;project_root&gt;'</span>            <span style=\"color: #7f7f7f; text-decoration-color: #7f7f7f\">               </span>\n",
       "</pre>\n"
      ],
      "text/plain": [
       "\u001b[2;36m[10/18/25 21:37:25]\u001b[0m\u001b[2;36m \u001b[0m\u001b[34mINFO    \u001b[0m Resolved project path as:                                              \u001b]8;id=638815;file:///home/gabriel/Escritorio/Proyectos/UBO/Erik_Escalona/kotari_proyecto/kotari-gender-data-analysis/.venv/lib/python3.11/site-packages/kedro/ipython/__init__.py\u001b\\\u001b[2m__init__.py\u001b[0m\u001b]8;;\u001b\\\u001b[2m:\u001b[0m\u001b]8;id=812510;file:///home/gabriel/Escritorio/Proyectos/UBO/Erik_Escalona/kotari_proyecto/kotari-gender-data-analysis/.venv/lib/python3.11/site-packages/kedro/ipython/__init__.py#180\u001b\\\u001b[2m180\u001b[0m\u001b]8;;\u001b\\\n",
       "\u001b[2;36m                    \u001b[0m         \u001b[35m/home/gabriel/Escritorio/Proyectos/UBO/Erik_Escalona/kotari_proyecto/\u001b[0m\u001b[95mk\u001b[0m \u001b[2m               \u001b[0m\n",
       "\u001b[2;36m                    \u001b[0m         \u001b[95motari-gender-data-analysis.\u001b[0m                                            \u001b[2m               \u001b[0m\n",
       "\u001b[2;36m                    \u001b[0m         To set a different path, run \u001b[32m'%reload_kedro \u001b[0m\u001b[32m<\u001b[0m\u001b[32mproject_root\u001b[0m\u001b[32m>\u001b[0m\u001b[32m'\u001b[0m            \u001b[2m               \u001b[0m\n"
      ]
     },
     "metadata": {},
     "output_type": "display_data"
    },
    {
     "data": {
      "text/html": [
       "<pre style=\"white-space:pre;overflow-x:auto;line-height:normal;font-family:Menlo,'DejaVu Sans Mono',consolas,'Courier New',monospace\"><span style=\"color: #7fbfbf; text-decoration-color: #7fbfbf\">                    </span><span style=\"color: #000080; text-decoration-color: #000080\">INFO    </span> Kedro is sending anonymous usage data with the sole purpose of improving <a href=\"file:///home/gabriel/Escritorio/Proyectos/UBO/Erik_Escalona/kotari_proyecto/kotari-gender-data-analysis/.venv/lib/python3.11/site-packages/kedro_telemetry/plugin.py\" target=\"_blank\"><span style=\"color: #7f7f7f; text-decoration-color: #7f7f7f\">plugin.py</span></a><span style=\"color: #7f7f7f; text-decoration-color: #7f7f7f\">:</span><a href=\"file:///home/gabriel/Escritorio/Proyectos/UBO/Erik_Escalona/kotari_proyecto/kotari-gender-data-analysis/.venv/lib/python3.11/site-packages/kedro_telemetry/plugin.py#243\" target=\"_blank\"><span style=\"color: #7f7f7f; text-decoration-color: #7f7f7f\">243</span></a>\n",
       "<span style=\"color: #7fbfbf; text-decoration-color: #7fbfbf\">                    </span>         the product. No personal data or IP addresses are stored on our side. To <span style=\"color: #7f7f7f; text-decoration-color: #7f7f7f\">             </span>\n",
       "<span style=\"color: #7fbfbf; text-decoration-color: #7fbfbf\">                    </span>         opt out, set the `KEDRO_DISABLE_TELEMETRY` or `DO_NOT_TRACK` environment <span style=\"color: #7f7f7f; text-decoration-color: #7f7f7f\">             </span>\n",
       "<span style=\"color: #7fbfbf; text-decoration-color: #7fbfbf\">                    </span>         variables, or create a `.telemetry` file in the current working          <span style=\"color: #7f7f7f; text-decoration-color: #7f7f7f\">             </span>\n",
       "<span style=\"color: #7fbfbf; text-decoration-color: #7fbfbf\">                    </span>         directory with the contents `consent: false`. To hide this message,      <span style=\"color: #7f7f7f; text-decoration-color: #7f7f7f\">             </span>\n",
       "<span style=\"color: #7fbfbf; text-decoration-color: #7fbfbf\">                    </span>         explicitly grant or deny consent. Read more at                           <span style=\"color: #7f7f7f; text-decoration-color: #7f7f7f\">             </span>\n",
       "<span style=\"color: #7fbfbf; text-decoration-color: #7fbfbf\">                    </span>         <span style=\"color: #0000ff; text-decoration-color: #0000ff; text-decoration: underline\">https://docs.kedro.org/en/stable/configuration/telemetry.html</span>            <span style=\"color: #7f7f7f; text-decoration-color: #7f7f7f\">             </span>\n",
       "</pre>\n"
      ],
      "text/plain": [
       "\u001b[2;36m                   \u001b[0m\u001b[2;36m \u001b[0m\u001b[34mINFO    \u001b[0m Kedro is sending anonymous usage data with the sole purpose of improving \u001b]8;id=897782;file:///home/gabriel/Escritorio/Proyectos/UBO/Erik_Escalona/kotari_proyecto/kotari-gender-data-analysis/.venv/lib/python3.11/site-packages/kedro_telemetry/plugin.py\u001b\\\u001b[2mplugin.py\u001b[0m\u001b]8;;\u001b\\\u001b[2m:\u001b[0m\u001b]8;id=358702;file:///home/gabriel/Escritorio/Proyectos/UBO/Erik_Escalona/kotari_proyecto/kotari-gender-data-analysis/.venv/lib/python3.11/site-packages/kedro_telemetry/plugin.py#243\u001b\\\u001b[2m243\u001b[0m\u001b]8;;\u001b\\\n",
       "\u001b[2;36m                    \u001b[0m         the product. No personal data or IP addresses are stored on our side. To \u001b[2m             \u001b[0m\n",
       "\u001b[2;36m                    \u001b[0m         opt out, set the `KEDRO_DISABLE_TELEMETRY` or `DO_NOT_TRACK` environment \u001b[2m             \u001b[0m\n",
       "\u001b[2;36m                    \u001b[0m         variables, or create a `.telemetry` file in the current working          \u001b[2m             \u001b[0m\n",
       "\u001b[2;36m                    \u001b[0m         directory with the contents `consent: false`. To hide this message,      \u001b[2m             \u001b[0m\n",
       "\u001b[2;36m                    \u001b[0m         explicitly grant or deny consent. Read more at                           \u001b[2m             \u001b[0m\n",
       "\u001b[2;36m                    \u001b[0m         \u001b[4;94mhttps://docs.kedro.org/en/stable/configuration/telemetry.html\u001b[0m            \u001b[2m             \u001b[0m\n"
      ]
     },
     "metadata": {},
     "output_type": "display_data"
    },
    {
     "data": {
      "text/html": [
       "<pre style=\"white-space:pre;overflow-x:auto;line-height:normal;font-family:Menlo,'DejaVu Sans Mono',consolas,'Courier New',monospace\"><span style=\"color: #7fbfbf; text-decoration-color: #7fbfbf\">[10/18/25 21:37:26] </span><span style=\"color: #000080; text-decoration-color: #000080\">INFO    </span> Kedro project kotari-gender-data-analysis                              <a href=\"file:///home/gabriel/Escritorio/Proyectos/UBO/Erik_Escalona/kotari_proyecto/kotari-gender-data-analysis/.venv/lib/python3.11/site-packages/kedro/ipython/__init__.py\" target=\"_blank\"><span style=\"color: #7f7f7f; text-decoration-color: #7f7f7f\">__init__.py</span></a><span style=\"color: #7f7f7f; text-decoration-color: #7f7f7f\">:</span><a href=\"file:///home/gabriel/Escritorio/Proyectos/UBO/Erik_Escalona/kotari_proyecto/kotari-gender-data-analysis/.venv/lib/python3.11/site-packages/kedro/ipython/__init__.py#146\" target=\"_blank\"><span style=\"color: #7f7f7f; text-decoration-color: #7f7f7f\">146</span></a>\n",
       "</pre>\n"
      ],
      "text/plain": [
       "\u001b[2;36m[10/18/25 21:37:26]\u001b[0m\u001b[2;36m \u001b[0m\u001b[34mINFO    \u001b[0m Kedro project kotari-gender-data-analysis                              \u001b]8;id=462490;file:///home/gabriel/Escritorio/Proyectos/UBO/Erik_Escalona/kotari_proyecto/kotari-gender-data-analysis/.venv/lib/python3.11/site-packages/kedro/ipython/__init__.py\u001b\\\u001b[2m__init__.py\u001b[0m\u001b]8;;\u001b\\\u001b[2m:\u001b[0m\u001b]8;id=663540;file:///home/gabriel/Escritorio/Proyectos/UBO/Erik_Escalona/kotari_proyecto/kotari-gender-data-analysis/.venv/lib/python3.11/site-packages/kedro/ipython/__init__.py#146\u001b\\\u001b[2m146\u001b[0m\u001b]8;;\u001b\\\n"
      ]
     },
     "metadata": {},
     "output_type": "display_data"
    },
    {
     "data": {
      "text/html": [
       "<pre style=\"white-space:pre;overflow-x:auto;line-height:normal;font-family:Menlo,'DejaVu Sans Mono',consolas,'Courier New',monospace\"><span style=\"color: #7fbfbf; text-decoration-color: #7fbfbf\">                    </span><span style=\"color: #000080; text-decoration-color: #000080\">INFO    </span> Defined global variable <span style=\"color: #008000; text-decoration-color: #008000\">'context'</span>, <span style=\"color: #008000; text-decoration-color: #008000\">'session'</span>, <span style=\"color: #008000; text-decoration-color: #008000\">'catalog'</span> and            <a href=\"file:///home/gabriel/Escritorio/Proyectos/UBO/Erik_Escalona/kotari_proyecto/kotari-gender-data-analysis/.venv/lib/python3.11/site-packages/kedro/ipython/__init__.py\" target=\"_blank\"><span style=\"color: #7f7f7f; text-decoration-color: #7f7f7f\">__init__.py</span></a><span style=\"color: #7f7f7f; text-decoration-color: #7f7f7f\">:</span><a href=\"file:///home/gabriel/Escritorio/Proyectos/UBO/Erik_Escalona/kotari_proyecto/kotari-gender-data-analysis/.venv/lib/python3.11/site-packages/kedro/ipython/__init__.py#147\" target=\"_blank\"><span style=\"color: #7f7f7f; text-decoration-color: #7f7f7f\">147</span></a>\n",
       "<span style=\"color: #7fbfbf; text-decoration-color: #7fbfbf\">                    </span>         <span style=\"color: #008000; text-decoration-color: #008000\">'pipelines'</span>                                                            <span style=\"color: #7f7f7f; text-decoration-color: #7f7f7f\">               </span>\n",
       "</pre>\n"
      ],
      "text/plain": [
       "\u001b[2;36m                   \u001b[0m\u001b[2;36m \u001b[0m\u001b[34mINFO    \u001b[0m Defined global variable \u001b[32m'context'\u001b[0m, \u001b[32m'session'\u001b[0m, \u001b[32m'catalog'\u001b[0m and            \u001b]8;id=882816;file:///home/gabriel/Escritorio/Proyectos/UBO/Erik_Escalona/kotari_proyecto/kotari-gender-data-analysis/.venv/lib/python3.11/site-packages/kedro/ipython/__init__.py\u001b\\\u001b[2m__init__.py\u001b[0m\u001b]8;;\u001b\\\u001b[2m:\u001b[0m\u001b]8;id=659966;file:///home/gabriel/Escritorio/Proyectos/UBO/Erik_Escalona/kotari_proyecto/kotari-gender-data-analysis/.venv/lib/python3.11/site-packages/kedro/ipython/__init__.py#147\u001b\\\u001b[2m147\u001b[0m\u001b]8;;\u001b\\\n",
       "\u001b[2;36m                    \u001b[0m         \u001b[32m'pipelines'\u001b[0m                                                            \u001b[2m               \u001b[0m\n"
      ]
     },
     "metadata": {},
     "output_type": "display_data"
    },
    {
     "data": {
      "text/html": [
       "<pre style=\"white-space:pre;overflow-x:auto;line-height:normal;font-family:Menlo,'DejaVu Sans Mono',consolas,'Courier New',monospace\"><span style=\"color: #7fbfbf; text-decoration-color: #7fbfbf\">                    </span><span style=\"color: #000080; text-decoration-color: #000080\">INFO    </span> Registered line magic <span style=\"color: #008000; text-decoration-color: #008000\">'run_viz'</span>                                        <a href=\"file:///home/gabriel/Escritorio/Proyectos/UBO/Erik_Escalona/kotari_proyecto/kotari-gender-data-analysis/.venv/lib/python3.11/site-packages/kedro/ipython/__init__.py\" target=\"_blank\"><span style=\"color: #7f7f7f; text-decoration-color: #7f7f7f\">__init__.py</span></a><span style=\"color: #7f7f7f; text-decoration-color: #7f7f7f\">:</span><a href=\"file:///home/gabriel/Escritorio/Proyectos/UBO/Erik_Escalona/kotari_proyecto/kotari-gender-data-analysis/.venv/lib/python3.11/site-packages/kedro/ipython/__init__.py#153\" target=\"_blank\"><span style=\"color: #7f7f7f; text-decoration-color: #7f7f7f\">153</span></a>\n",
       "</pre>\n"
      ],
      "text/plain": [
       "\u001b[2;36m                   \u001b[0m\u001b[2;36m \u001b[0m\u001b[34mINFO    \u001b[0m Registered line magic \u001b[32m'run_viz'\u001b[0m                                        \u001b]8;id=644903;file:///home/gabriel/Escritorio/Proyectos/UBO/Erik_Escalona/kotari_proyecto/kotari-gender-data-analysis/.venv/lib/python3.11/site-packages/kedro/ipython/__init__.py\u001b\\\u001b[2m__init__.py\u001b[0m\u001b]8;;\u001b\\\u001b[2m:\u001b[0m\u001b]8;id=310502;file:///home/gabriel/Escritorio/Proyectos/UBO/Erik_Escalona/kotari_proyecto/kotari-gender-data-analysis/.venv/lib/python3.11/site-packages/kedro/ipython/__init__.py#153\u001b\\\u001b[2m153\u001b[0m\u001b]8;;\u001b\\\n"
      ]
     },
     "metadata": {},
     "output_type": "display_data"
    }
   ],
   "source": [
    "# Cargar la sesión de Kedro y el dataset de la hoja 2\n",
    "%load_ext kedro.ipython\n",
    "%reload_kedro"
   ]
  },
  {
   "cell_type": "markdown",
   "metadata": {},
   "source": [
    "## Carga de Datos: Hoja \"LISTADO EMPRESA\"\n",
    "Cargamos exclusivamente la hoja \"LISTADO EMPRESA\" del conjunto de datos `raw_mineria_data` definido en `conf/base/catalog.yml`. Este archivo Excel contiene múltiples hojas, pero aquí solo analizamos la hoja de empresas mineras."
   ]
  },
  {
   "cell_type": "code",
   "execution_count": 26,
   "metadata": {},
   "outputs": [
    {
     "data": {
      "text/html": [
       "<pre style=\"white-space:pre;overflow-x:auto;line-height:normal;font-family:Menlo,'DejaVu Sans Mono',consolas,'Courier New',monospace\"><span style=\"color: #7fbfbf; text-decoration-color: #7fbfbf\">                    </span><span style=\"color: #000080; text-decoration-color: #000080\">INFO    </span> Loading data from <span style=\"color: #ff8700; text-decoration-color: #ff8700\">raw_mineria_data</span> <span style=\"font-weight: bold\">(</span>ExcelDataset<span style=\"font-weight: bold\">)</span><span style=\"color: #808000; text-decoration-color: #808000\">...</span>               <a href=\"file:///home/gabriel/Escritorio/Proyectos/UBO/Erik_Escalona/kotari_proyecto/kotari-gender-data-analysis/.venv/lib/python3.11/site-packages/kedro/io/data_catalog.py\" target=\"_blank\"><span style=\"color: #7f7f7f; text-decoration-color: #7f7f7f\">data_catalog.py</span></a><span style=\"color: #7f7f7f; text-decoration-color: #7f7f7f\">:</span><a href=\"file:///home/gabriel/Escritorio/Proyectos/UBO/Erik_Escalona/kotari_proyecto/kotari-gender-data-analysis/.venv/lib/python3.11/site-packages/kedro/io/data_catalog.py#403\" target=\"_blank\"><span style=\"color: #7f7f7f; text-decoration-color: #7f7f7f\">403</span></a>\n",
       "</pre>\n"
      ],
      "text/plain": [
       "\u001b[2;36m                   \u001b[0m\u001b[2;36m \u001b[0m\u001b[34mINFO    \u001b[0m Loading data from \u001b[38;5;208mraw_mineria_data\u001b[0m \u001b[1m(\u001b[0mExcelDataset\u001b[1m)\u001b[0m\u001b[33m...\u001b[0m               \u001b]8;id=144425;file:///home/gabriel/Escritorio/Proyectos/UBO/Erik_Escalona/kotari_proyecto/kotari-gender-data-analysis/.venv/lib/python3.11/site-packages/kedro/io/data_catalog.py\u001b\\\u001b[2mdata_catalog.py\u001b[0m\u001b]8;;\u001b\\\u001b[2m:\u001b[0m\u001b]8;id=354867;file:///home/gabriel/Escritorio/Proyectos/UBO/Erik_Escalona/kotari_proyecto/kotari-gender-data-analysis/.venv/lib/python3.11/site-packages/kedro/io/data_catalog.py#403\u001b\\\u001b[2m403\u001b[0m\u001b]8;;\u001b\\\n"
      ]
     },
     "metadata": {},
     "output_type": "display_data"
    },
    {
     "name": "stdout",
     "output_type": "stream",
     "text": [
      "Se analizará la hoja: LISTADO EMPRESA\n",
      "Dimensiones: 35 filas × 8 columnas\n"
     ]
    }
   ],
   "source": [
    "data = catalog.load(\"raw_mineria_data\")\n",
    "sheet_name = \"LISTADO EMPRESA\"\n",
    "df = data[sheet_name]\n",
    "print(f\"Se analizará la hoja: {sheet_name}\")\n",
    "print(f\"Dimensiones: {df.shape[0]} filas × {df.shape[1]} columnas\")"
   ]
  },
  {
   "cell_type": "markdown",
   "metadata": {},
   "source": [
    "## Análisis de la Hoja \"LISTADO EMPRESA\"\n",
    "\n",
    "A continuación se presenta un análisis detallado de la hoja \"LISTADO EMPRESA\" del archivo Excel, incluyendo:\n",
    "- Dimensiones (filas y columnas)\n",
    "- Tipos de datos\n",
    "- Valores faltantes\n",
    "- Distribución de valores únicos\n",
    "- Análisis de variables categóricas"
   ]
  },
  {
   "cell_type": "code",
   "execution_count": 27,
   "metadata": {},
   "outputs": [],
   "source": [
    "# Importar librerías necesarias para el análisis de la hoja \"LISTADO EMPRESA\"\n",
    "import pandas as pd\n",
    "import numpy as np\n",
    "from IPython.display import display, Markdown"
   ]
  },
  {
   "cell_type": "code",
   "execution_count": 28,
   "metadata": {},
   "outputs": [
    {
     "data": {
      "text/html": [
       "<pre style=\"white-space:pre;overflow-x:auto;line-height:normal;font-family:Menlo,'DejaVu Sans Mono',consolas,'Courier New',monospace\"></pre>\n"
      ],
      "text/plain": []
     },
     "metadata": {},
     "output_type": "display_data"
    },
    {
     "data": {
      "text/markdown": [
       "### Hoja: LISTADO EMPRESA"
      ],
      "text/plain": [
       "\u001b[1m<\u001b[0m\u001b[1;95mIPython.core.display.Markdown\u001b[0m\u001b[39m object\u001b[0m\u001b[1m>\u001b[0m"
      ]
     },
     "metadata": {},
     "output_type": "display_data"
    },
    {
     "data": {
      "text/html": [
       "<pre style=\"white-space:pre;overflow-x:auto;line-height:normal;font-family:Menlo,'DejaVu Sans Mono',consolas,'Courier New',monospace\"></pre>\n"
      ],
      "text/plain": []
     },
     "metadata": {},
     "output_type": "display_data"
    },
    {
     "data": {
      "text/markdown": [
       "---"
      ],
      "text/plain": [
       "\u001b[1m<\u001b[0m\u001b[1;95mIPython.core.display.Markdown\u001b[0m\u001b[39m object\u001b[0m\u001b[1m>\u001b[0m"
      ]
     },
     "metadata": {},
     "output_type": "display_data"
    },
    {
     "data": {
      "text/html": [
       "<pre style=\"white-space:pre;overflow-x:auto;line-height:normal;font-family:Menlo,'DejaVu Sans Mono',consolas,'Courier New',monospace\"></pre>\n"
      ],
      "text/plain": []
     },
     "metadata": {},
     "output_type": "display_data"
    },
    {
     "data": {
      "text/markdown": [
       "#### 1. Número de Filas y Columnas"
      ],
      "text/plain": [
       "\u001b[1m<\u001b[0m\u001b[1;95mIPython.core.display.Markdown\u001b[0m\u001b[39m object\u001b[0m\u001b[1m>\u001b[0m"
      ]
     },
     "metadata": {},
     "output_type": "display_data"
    },
    {
     "name": "stdout",
     "output_type": "stream",
     "text": [
      "La hoja 'LISTADO EMPRESA' tiene 35 filas y 8 columnas.\n"
     ]
    },
    {
     "data": {
      "text/html": [
       "<pre style=\"white-space:pre;overflow-x:auto;line-height:normal;font-family:Menlo,'DejaVu Sans Mono',consolas,'Courier New',monospace\"></pre>\n"
      ],
      "text/plain": []
     },
     "metadata": {},
     "output_type": "display_data"
    },
    {
     "data": {
      "text/markdown": [
       "#### 2. Tipos de Datos y Valores Faltantes"
      ],
      "text/plain": [
       "\u001b[1m<\u001b[0m\u001b[1;95mIPython.core.display.Markdown\u001b[0m\u001b[39m object\u001b[0m\u001b[1m>\u001b[0m"
      ]
     },
     "metadata": {},
     "output_type": "display_data"
    },
    {
     "name": "stdout",
     "output_type": "stream",
     "text": [
      "Información general del DataFrame:\n",
      "<class 'pandas.core.frame.DataFrame'>\n",
      "RangeIndex: 35 entries, 0 to 34\n",
      "Data columns (total 8 columns):\n",
      " #   Column                 Non-Null Count  Dtype \n",
      "---  ------                 --------------  ----- \n",
      " 0   RUT                    35 non-null     object\n",
      " 1   EMPRESA                35 non-null     object\n",
      " 2   PAÍS DE ORIGEN         35 non-null     object\n",
      " 3   ORIGEN NACIONAL        35 non-null     object\n",
      " 4   PROPIETARIO PRINCIPAL  35 non-null     object\n",
      " 5   PROPIETARIO NACIONAL   35 non-null     object\n",
      " 6   TIPO DE EMPRESA        35 non-null     object\n",
      " 7   TIPO DE MINERAL        35 non-null     object\n",
      "dtypes: object(8)\n",
      "memory usage: 2.3+ KB\n",
      "\n",
      "==================================================\n",
      "✓ No hay valores faltantes en esta hoja.\n"
     ]
    },
    {
     "data": {
      "text/html": [
       "<pre style=\"white-space:pre;overflow-x:auto;line-height:normal;font-family:Menlo,'DejaVu Sans Mono',consolas,'Courier New',monospace\"></pre>\n"
      ],
      "text/plain": []
     },
     "metadata": {},
     "output_type": "display_data"
    },
    {
     "data": {
      "text/markdown": [
       "#### 3. Análisis de Valores Únicos"
      ],
      "text/plain": [
       "\u001b[1m<\u001b[0m\u001b[1;95mIPython.core.display.Markdown\u001b[0m\u001b[39m object\u001b[0m\u001b[1m>\u001b[0m"
      ]
     },
     "metadata": {},
     "output_type": "display_data"
    },
    {
     "name": "stdout",
     "output_type": "stream",
     "text": [
      "\n",
      "Número de valores únicos por columna:\n",
      "==================================================\n",
      "                       Valores Únicos\n",
      "RUT                                35\n",
      "EMPRESA                            35\n",
      "PAÍS DE ORIGEN                      4\n",
      "ORIGEN NACIONAL                     2\n",
      "PROPIETARIO PRINCIPAL              18\n",
      "PROPIETARIO NACIONAL                2\n",
      "TIPO DE EMPRESA                     2\n",
      "TIPO DE MINERAL                    12\n"
     ]
    },
    {
     "data": {
      "text/html": [
       "<pre style=\"white-space:pre;overflow-x:auto;line-height:normal;font-family:Menlo,'DejaVu Sans Mono',consolas,'Courier New',monospace\"></pre>\n"
      ],
      "text/plain": []
     },
     "metadata": {},
     "output_type": "display_data"
    },
    {
     "data": {
      "text/markdown": [
       "#### 4. Análisis Detallado de Variables Categóricas"
      ],
      "text/plain": [
       "\u001b[1m<\u001b[0m\u001b[1;95mIPython.core.display.Markdown\u001b[0m\u001b[39m object\u001b[0m\u001b[1m>\u001b[0m"
      ]
     },
     "metadata": {},
     "output_type": "display_data"
    },
    {
     "name": "stdout",
     "output_type": "stream",
     "text": [
      "\n",
      "--- Variable 'RUT' ---\n",
      "Tiene 35 valores únicos (demasiados para mostrar distribución completa).\n",
      "Primeros 10 valores más frecuentes:\n",
      "RUT\n",
      "76000957-1    1\n",
      "78338570-8    1\n",
      "96790240-3    1\n",
      "99529080-4    1\n",
      "86542100-1    1\n",
      "77116500-1    1\n",
      "99531960-8    1\n",
      "76081590-K    1\n",
      "96701340-4    1\n",
      "79587210-8    1\n",
      "Name: count, dtype: int64\n",
      "\n",
      "--- Variable 'EMPRESA' ---\n",
      "Tiene 35 valores únicos (demasiados para mostrar distribución completa).\n",
      "Primeros 10 valores más frecuentes:\n",
      "EMPRESA\n",
      "ALGORTA NORTE S.A.                                    1\n",
      "SOCIEDAD CONTRACTUAL MINERA ATACAMA MINERALS CHILE    1\n",
      "MINERA LOS PELAMBRES                                  1\n",
      "MINERA SANTO DOMINGO SCM                              1\n",
      "MINERA SPENCE S.A.                                    1\n",
      "NORTE ABIERTO SPA                                     1\n",
      "SCM MINERA LUMINA COPPER CHILE                        1\n",
      "SIERRA GORDA SCM                                      1\n",
      "SOCIEDAD CONTRACTUAL MINERA EL ABRA                   1\n",
      "MINERA ESCONDIDA LIMITADA                             1\n",
      "Name: count, dtype: int64\n",
      "\n",
      "--- Distribución de 'PAÍS DE ORIGEN' ---\n",
      "PAÍS DE ORIGEN\n",
      "CHILE        32\n",
      "CANADÁ        1\n",
      "AUSTRALIA     1\n",
      "JAPÓN         1\n",
      "Name: count, dtype: int64\n",
      "\n",
      "Porcentajes para 'PAÍS DE ORIGEN':\n",
      "  CHILE: 91.43%\n",
      "  CANADÁ: 2.86%\n",
      "  AUSTRALIA: 2.86%\n",
      "  JAPÓN: 2.86%\n",
      "\n",
      "--- Distribución de 'ORIGEN NACIONAL' ---\n",
      "ORIGEN NACIONAL\n",
      "SI    32\n",
      "NO     3\n",
      "Name: count, dtype: int64\n",
      "\n",
      "Porcentajes para 'ORIGEN NACIONAL':\n",
      "  SI: 91.43%\n",
      "  NO: 8.57%\n",
      "\n",
      "--- Distribución de 'PROPIETARIO PRINCIPAL' ---\n",
      "PROPIETARIO PRINCIPAL\n",
      "CHILE                        6\n",
      "CANADÁ                       6\n",
      "CHILE Y JAPÓN                4\n",
      "CANADÁ Y JAPÓN               2\n",
      "AUSTRALIA                    2\n",
      "JAPÓN                        2\n",
      "REINO UNIDO                  2\n",
      "AUSTRALIA Y REINO UNIDO      1\n",
      "EEUU Y CHILE                 1\n",
      "POLONIA Y JAPÓN              1\n",
      "CANADÁ Y EEUU                1\n",
      "SUIZA                        1\n",
      "SUDRÁFRICA                   1\n",
      "CANADÁ Y CHILE               1\n",
      "REINO UNIDO, SUIZA, JAPÓN    1\n",
      "CHILE Y CANADÁ               1\n",
      "POLONIA                      1\n",
      "EEUU                         1\n",
      "Name: count, dtype: int64\n",
      "\n",
      "Porcentajes para 'PROPIETARIO PRINCIPAL':\n",
      "  CHILE: 17.14%\n",
      "  CANADÁ: 17.14%\n",
      "  CHILE Y JAPÓN: 11.43%\n",
      "  CANADÁ Y JAPÓN: 5.71%\n",
      "  AUSTRALIA: 5.71%\n",
      "  JAPÓN: 5.71%\n",
      "  REINO UNIDO: 5.71%\n",
      "  AUSTRALIA Y REINO UNIDO: 2.86%\n",
      "  EEUU Y CHILE: 2.86%\n",
      "  POLONIA Y JAPÓN: 2.86%\n",
      "  CANADÁ Y EEUU: 2.86%\n",
      "  SUIZA: 2.86%\n",
      "  SUDRÁFRICA: 2.86%\n",
      "  CANADÁ Y CHILE: 2.86%\n",
      "  REINO UNIDO, SUIZA, JAPÓN: 2.86%\n",
      "  CHILE Y CANADÁ: 2.86%\n",
      "  POLONIA: 2.86%\n",
      "  EEUU: 2.86%\n",
      "\n",
      "--- Distribución de 'PROPIETARIO NACIONAL' ---\n",
      "PROPIETARIO NACIONAL\n",
      "NO    22\n",
      "SI    13\n",
      "Name: count, dtype: int64\n",
      "\n",
      "Porcentajes para 'PROPIETARIO NACIONAL':\n",
      "  NO: 62.86%\n",
      "  SI: 37.14%\n",
      "\n",
      "--- Distribución de 'TIPO DE EMPRESA' ---\n",
      "TIPO DE EMPRESA\n",
      "PÚBLICA    31\n",
      "PRIVADA     4\n",
      "Name: count, dtype: int64\n",
      "\n",
      "Porcentajes para 'TIPO DE EMPRESA':\n",
      "  PÚBLICA: 88.57%\n",
      "  PRIVADA: 11.43%\n",
      "\n",
      "--- Distribución de 'TIPO DE MINERAL' ---\n",
      "TIPO DE MINERAL\n",
      "COBRE               15\n",
      "COBRE, ORO           6\n",
      "COBRE, MOLIBDENO     3\n",
      "ORO                  2\n",
      "ORO, PLATA           2\n",
      "YODO                 1\n",
      "ORO, PLATA, ZINC     1\n",
      "COBRE. HIERRO        1\n",
      "YODO, LITIO          1\n",
      "NITRATO, YODO        1\n",
      "LITIO                1\n",
      "LITIO, COBRE         1\n",
      "Name: count, dtype: int64\n",
      "\n",
      "Porcentajes para 'TIPO DE MINERAL':\n",
      "  COBRE: 42.86%\n",
      "  COBRE, ORO: 17.14%\n",
      "  COBRE, MOLIBDENO: 8.57%\n",
      "  ORO: 5.71%\n",
      "  ORO, PLATA: 5.71%\n",
      "  YODO: 2.86%\n",
      "  ORO, PLATA, ZINC: 2.86%\n",
      "  COBRE. HIERRO: 2.86%\n",
      "  YODO, LITIO: 2.86%\n",
      "  NITRATO, YODO: 2.86%\n",
      "  LITIO: 2.86%\n",
      "  LITIO, COBRE: 2.86%\n"
     ]
    },
    {
     "data": {
      "text/html": [
       "<pre style=\"white-space:pre;overflow-x:auto;line-height:normal;font-family:Menlo,'DejaVu Sans Mono',consolas,'Courier New',monospace\"></pre>\n"
      ],
      "text/plain": []
     },
     "metadata": {},
     "output_type": "display_data"
    },
    {
     "data": {
      "text/markdown": [
       "#### 5. Estadísticas Descriptivas de Variables Numéricas"
      ],
      "text/plain": [
       "\u001b[1m<\u001b[0m\u001b[1;95mIPython.core.display.Markdown\u001b[0m\u001b[39m object\u001b[0m\u001b[1m>\u001b[0m"
      ]
     },
     "metadata": {},
     "output_type": "display_data"
    },
    {
     "name": "stdout",
     "output_type": "stream",
     "text": [
      "No hay variables numéricas en esta hoja.\n",
      "\n",
      "================================================================================\n",
      "\n"
     ]
    }
   ],
   "source": [
    "# Análisis Exploratorio de la Hoja \"LISTADO EMPRESA\"\n",
    "\n",
    "display(Markdown(f\"### Hoja: {sheet_name}\"))\n",
    "display(Markdown(\"---\"))\n",
    "\n",
    "# 1. Dimensiones\n",
    "display(Markdown(\"#### 1. Número de Filas y Columnas\"))\n",
    "print(f\"La hoja '{sheet_name}' tiene {df.shape[0]:,} filas y {df.shape[1]} columnas.\")\n",
    "\n",
    "# 2. Tipos de datos e información general\n",
    "display(Markdown(\"#### 2. Tipos de Datos y Valores Faltantes\"))\n",
    "print(\"Información general del DataFrame:\")\n",
    "df.info()\n",
    "\n",
    "# 3. Valores faltantes\n",
    "print(\"\\n\" + \"=\" * 50)\n",
    "missing_values = df.isnull().sum()\n",
    "missing_percent = (missing_values / len(df)) * 100\n",
    "missing_df = pd.DataFrame({\n",
    "    'Valores Faltantes': missing_values,\n",
    "    'Porcentaje (%)': missing_percent\n",
    "})\n",
    "missing_df = missing_df[missing_df['Valores Faltantes'] > 0].sort_values('Valores Faltantes', ascending=False)\n",
    "\n",
    "if len(missing_df) > 0:\n",
    "    print(\"Valores faltantes por columna:\")\n",
    "    print(missing_df)\n",
    "else:\n",
    "    print(\"✓ No hay valores faltantes en esta hoja.\")\n",
    "\n",
    "# 4. Análisis de valores únicos\n",
    "display(Markdown(\"#### 3. Análisis de Valores Únicos\"))\n",
    "print(\"\\nNúmero de valores únicos por columna:\")\n",
    "print(\"=\" * 50)\n",
    "unique_counts = df.nunique()\n",
    "unique_df = pd.DataFrame({'Valores Únicos': unique_counts})\n",
    "print(unique_df)\n",
    "\n",
    "# 5. Análisis de variables categóricas\n",
    "display(Markdown(\"#### 4. Análisis Detallado de Variables Categóricas\"))\n",
    "categorical_vars = df.select_dtypes(include=['object']).columns\n",
    "\n",
    "if len(categorical_vars) > 0:\n",
    "    for var in categorical_vars:\n",
    "        if df[var].nunique() < 20:  # Solo mostrar si tiene menos de 20 valores únicos\n",
    "            print(f\"\\n--- Distribución de '{var}' ---\")\n",
    "            value_counts = df[var].value_counts()\n",
    "            print(value_counts)\n",
    "            print(f\"\\nPorcentajes para '{var}':\")\n",
    "            percentages = df[var].value_counts(normalize=True) * 100\n",
    "            for value, percentage in percentages.items():\n",
    "                print(f\"  {value}: {percentage:.2f}%\")\n",
    "        else:\n",
    "            print(f\"\\n--- Variable '{var}' ---\")\n",
    "            print(f\"Tiene {df[var].nunique():,} valores únicos (demasiados para mostrar distribución completa).\")\n",
    "            print(f\"Primeros 10 valores más frecuentes:\")\n",
    "            print(df[var].value_counts().head(10))\n",
    "else:\n",
    "    print(\"No hay variables categóricas (tipo 'object') en esta hoja.\")\n",
    "\n",
    "# 6. Análisis de variables numéricas\n",
    "display(Markdown(\"#### 5. Estadísticas Descriptivas de Variables Numéricas\"))\n",
    "numeric_vars = df.select_dtypes(include=[np.number]).columns\n",
    "\n",
    "if len(numeric_vars) > 0:\n",
    "    print(\"\\nEstadísticas descriptivas de variables numéricas:\")\n",
    "    print(df[numeric_vars].describe())\n",
    "else:\n",
    "    print(\"No hay variables numéricas en esta hoja.\")\n",
    "\n",
    "print(\"\\n\" + \"=\" * 80 + \"\\n\")"
   ]
  },
  {
   "cell_type": "markdown",
   "metadata": {},
   "source": [
    "## Exportar resultados del EDA a markdown"
   ]
  },
  {
   "cell_type": "code",
   "execution_count": 29,
   "metadata": {},
   "outputs": [],
   "source": [
    "output_path = \"/home/gabriel/Escritorio/Proyectos/UBO/Erik_Escalona/kotari_proyecto/kotari-gender-data-analysis/docs/source/note_01_EDA_Sheet2.md\"\n",
    "\n",
    "with open(output_path, \"w\", encoding=\"utf-8\") as f:\n",
    "    f.write(\"# Resultados del Análisis Exploratorio de Datos (EDA) - Hoja 'LISTADO EMPRESA'\\n\\n\")\n",
    "    f.write(\"<!-- Este archivo es solo para mostrar resultados del análisis, no debe aparecer como página principal en el menú de la documentación. -->\\n\\n\")\n",
    "    f.write(\"**Fuente:** notebooks/01_EDA_Sheet2.ipynb\\n\\n\")\n",
    "    f.write(f\"## Dimensiones del Dataset\\n- Filas: {df.shape[0]}\\n- Columnas: {df.shape[1]}\\n\\n\")\n",
    "\n",
    "    # Valores faltantes\n",
    "    f.write(\"## Valores Faltantes por Columna\\n\\n\")\n",
    "    missing_values = df.isnull().sum()\n",
    "    missing_percent = (missing_values / len(df)) * 100\n",
    "    f.write(\"| Columna | Valores Faltantes | Porcentaje (%) |\\n|---------|-------------------|----------------|\\n\")\n",
    "    for col in df.columns:\n",
    "        f.write(f\"| {col} | {missing_values[col]} | {missing_percent[col]:.2f} |\\n\")\n",
    "    f.write(\"\\n\")\n",
    "\n",
    "    # Valores únicos\n",
    "    f.write(\"## Distribución de Valores Únicos por Columna\\n\\n\")\n",
    "    unique_counts = df.nunique()\n",
    "    f.write(\"| Columna | Valores Únicos |\\n|---------|----------------|\\n\")\n",
    "    for col in df.columns:\n",
    "        f.write(f\"| {col} | {unique_counts[col]} |\\n\")\n",
    "    f.write(\"\\n\")\n",
    "\n",
    "    # Variables categóricas\n",
    "    f.write(\"## Análisis Detallado de Variables Categóricas\\n\\n\")\n",
    "    categorical_vars = df.select_dtypes(include=['object']).columns\n",
    "    for var in categorical_vars:\n",
    "        if df[var].nunique() < 20:\n",
    "            f.write(f\"\\n### Distribución de '{var}'\\n\")\n",
    "            value_counts = df[var].value_counts()\n",
    "            f.write(\"| Valor | Frecuencia |\\n|-------|------------|\\n\")\n",
    "            for value, count in value_counts.items():\n",
    "                f.write(f\"| {value} | {count} |\\n\")\n",
    "            f.write(f\"\\n### Porcentajes para '{var}'\\n\")\n",
    "            percentages = df[var].value_counts(normalize=True) * 100\n",
    "            f.write(\"| Valor | Porcentaje (%) |\\n|-------|-----------------|\\n\")\n",
    "            for value, percentage in percentages.items():\n",
    "                f.write(f\"| {value} | {percentage:.2f} |\\n\")\n",
    "        else:\n",
    "            f.write(f\"\\n--- Variable '{var}' ---\\n\")\n",
    "            f.write(f\"Tiene {df[var].nunique():,} valores únicos (demasiados para mostrar distribución completa).\\n\")\n",
    "            f.write(\"Primeros 10 valores más frecuentes:\\n\")\n",
    "            top10 = df[var].value_counts().head(10)\n",
    "            f.write(\"| Valor | Frecuencia |\\n|-------|------------|\\n\")\n",
    "            for value, count in top10.items():\n",
    "                f.write(f\"| {value} | {count} |\\n\")\n",
    "        f.write(\"\\n\")\n",
    "    f.write(\"\\n\")\n",
    "\n",
    "    # Variables numéricas\n",
    "    f.write(\"## Estadísticas Descriptivas de Variables Numéricas\\n\\n\")\n",
    "    numeric_vars = df.select_dtypes(include=[np.number]).columns\n",
    "    for var in numeric_vars:\n",
    "        stats = df[var].describe()\n",
    "        f.write(f\"| Variable | Estadístico | Valor |\\n|----------|-------------|-------|\\n\")\n",
    "        for stat_name, stat_value in stats.items():\n",
    "            f.write(f\"| {var} | {stat_name} | {stat_value} |\\n\")\n",
    "        f.write(\"\\n\")\n",
    "\n",
    "    f.write(\"*Generado automáticamente desde el notebook.*\\n\")"
   ]
  }
 ],
 "metadata": {
  "kernelspec": {
   "display_name": "kotari-gender-data-analysis",
   "language": "python",
   "name": "python3"
  },
  "language_info": {
   "codemirror_mode": {
    "name": "ipython",
    "version": 3
   },
   "file_extension": ".py",
   "mimetype": "text/x-python",
   "name": "python",
   "nbconvert_exporter": "python",
   "pygments_lexer": "ipython3",
   "version": "3.11.10"
  }
 },
 "nbformat": 4,
 "nbformat_minor": 2
}
