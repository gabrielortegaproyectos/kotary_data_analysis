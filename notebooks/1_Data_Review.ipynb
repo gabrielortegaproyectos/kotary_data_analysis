{
 "cells": [
  {
   "cell_type": "markdown",
   "metadata": {},
   "source": [
    "# 1. Análisis Exploratorio de Datos (EDA)\n",
    "\n",
    "**Objetivo:** Analizar el conjunto de datos de minería para entender su estructura, contenido y calidad en cada una de sus hojas. Específicamente, se busca:\n",
    "1. Determinar el número de filas.\n",
    "2. Identificar las columnas, su tipo de dato y su significado.\n",
    "3. Cuantificar los valores faltantes en cada columna.\n",
    "4. Analizar la distribución de valores únicos y categóricos."
   ]
  },
  {
   "cell_type": "code",
   "execution_count": 2,
   "metadata": {},
   "outputs": [
    {
     "data": {
      "text/html": [
       "<pre style=\"white-space:pre;overflow-x:auto;line-height:normal;font-family:Menlo,'DejaVu Sans Mono',consolas,'Courier New',monospace\"><span style=\"color: #7fbfbf; text-decoration-color: #7fbfbf\">[10/04/25 13:35:51] </span><span style=\"color: #000080; text-decoration-color: #000080\">INFO    </span> Registered line magic <span style=\"color: #008000; text-decoration-color: #008000\">'%reload_kedro'</span>                                   <a href=\"file:///home/gabriel/Escritorio/Proyectos/UBO/Erik_Escalona/kotari_proyecto/kotari-gender-data-analysis/.venv/lib/python3.11/site-packages/kedro/ipython/__init__.py\" target=\"_blank\"><span style=\"color: #7f7f7f; text-decoration-color: #7f7f7f\">__init__.py</span></a><span style=\"color: #7f7f7f; text-decoration-color: #7f7f7f\">:</span><a href=\"file:///home/gabriel/Escritorio/Proyectos/UBO/Erik_Escalona/kotari_proyecto/kotari-gender-data-analysis/.venv/lib/python3.11/site-packages/kedro/ipython/__init__.py#63\" target=\"_blank\"><span style=\"color: #7f7f7f; text-decoration-color: #7f7f7f\">63</span></a>\n",
       "</pre>\n"
      ],
      "text/plain": [
       "\u001b[2;36m[10/04/25 13:35:51]\u001b[0m\u001b[2;36m \u001b[0m\u001b[34mINFO    \u001b[0m Registered line magic \u001b[32m'%reload_kedro'\u001b[0m                                   \u001b]8;id=220779;file:///home/gabriel/Escritorio/Proyectos/UBO/Erik_Escalona/kotari_proyecto/kotari-gender-data-analysis/.venv/lib/python3.11/site-packages/kedro/ipython/__init__.py\u001b\\\u001b[2m__init__.py\u001b[0m\u001b]8;;\u001b\\\u001b[2m:\u001b[0m\u001b]8;id=75033;file:///home/gabriel/Escritorio/Proyectos/UBO/Erik_Escalona/kotari_proyecto/kotari-gender-data-analysis/.venv/lib/python3.11/site-packages/kedro/ipython/__init__.py#63\u001b\\\u001b[2m63\u001b[0m\u001b]8;;\u001b\\\n"
      ]
     },
     "metadata": {},
     "output_type": "display_data"
    },
    {
     "data": {
      "text/html": [
       "<pre style=\"white-space:pre;overflow-x:auto;line-height:normal;font-family:Menlo,'DejaVu Sans Mono',consolas,'Courier New',monospace\"><span style=\"color: #7fbfbf; text-decoration-color: #7fbfbf\">                    </span><span style=\"color: #000080; text-decoration-color: #000080\">INFO    </span> Registered line magic <span style=\"color: #008000; text-decoration-color: #008000\">'%load_node'</span>                                      <a href=\"file:///home/gabriel/Escritorio/Proyectos/UBO/Erik_Escalona/kotari_proyecto/kotari-gender-data-analysis/.venv/lib/python3.11/site-packages/kedro/ipython/__init__.py\" target=\"_blank\"><span style=\"color: #7f7f7f; text-decoration-color: #7f7f7f\">__init__.py</span></a><span style=\"color: #7f7f7f; text-decoration-color: #7f7f7f\">:</span><a href=\"file:///home/gabriel/Escritorio/Proyectos/UBO/Erik_Escalona/kotari_proyecto/kotari-gender-data-analysis/.venv/lib/python3.11/site-packages/kedro/ipython/__init__.py#65\" target=\"_blank\"><span style=\"color: #7f7f7f; text-decoration-color: #7f7f7f\">65</span></a>\n",
       "</pre>\n"
      ],
      "text/plain": [
       "\u001b[2;36m                   \u001b[0m\u001b[2;36m \u001b[0m\u001b[34mINFO    \u001b[0m Registered line magic \u001b[32m'%load_node'\u001b[0m                                      \u001b]8;id=162356;file:///home/gabriel/Escritorio/Proyectos/UBO/Erik_Escalona/kotari_proyecto/kotari-gender-data-analysis/.venv/lib/python3.11/site-packages/kedro/ipython/__init__.py\u001b\\\u001b[2m__init__.py\u001b[0m\u001b]8;;\u001b\\\u001b[2m:\u001b[0m\u001b]8;id=995886;file:///home/gabriel/Escritorio/Proyectos/UBO/Erik_Escalona/kotari_proyecto/kotari-gender-data-analysis/.venv/lib/python3.11/site-packages/kedro/ipython/__init__.py#65\u001b\\\u001b[2m65\u001b[0m\u001b]8;;\u001b\\\n"
      ]
     },
     "metadata": {},
     "output_type": "display_data"
    },
    {
     "data": {
      "text/html": [
       "<pre style=\"white-space:pre;overflow-x:auto;line-height:normal;font-family:Menlo,'DejaVu Sans Mono',consolas,'Courier New',monospace\"><span style=\"color: #7fbfbf; text-decoration-color: #7fbfbf\">                    </span><span style=\"color: #000080; text-decoration-color: #000080\">INFO    </span> Resolved project path as:                                              <a href=\"file:///home/gabriel/Escritorio/Proyectos/UBO/Erik_Escalona/kotari_proyecto/kotari-gender-data-analysis/.venv/lib/python3.11/site-packages/kedro/ipython/__init__.py\" target=\"_blank\"><span style=\"color: #7f7f7f; text-decoration-color: #7f7f7f\">__init__.py</span></a><span style=\"color: #7f7f7f; text-decoration-color: #7f7f7f\">:</span><a href=\"file:///home/gabriel/Escritorio/Proyectos/UBO/Erik_Escalona/kotari_proyecto/kotari-gender-data-analysis/.venv/lib/python3.11/site-packages/kedro/ipython/__init__.py#180\" target=\"_blank\"><span style=\"color: #7f7f7f; text-decoration-color: #7f7f7f\">180</span></a>\n",
       "<span style=\"color: #7fbfbf; text-decoration-color: #7fbfbf\">                    </span>         <span style=\"color: #800080; text-decoration-color: #800080\">/home/gabriel/Escritorio/Proyectos/UBO/Erik_Escalona/kotari_proyecto/</span><span style=\"color: #ff00ff; text-decoration-color: #ff00ff\">k</span> <span style=\"color: #7f7f7f; text-decoration-color: #7f7f7f\">               </span>\n",
       "<span style=\"color: #7fbfbf; text-decoration-color: #7fbfbf\">                    </span>         <span style=\"color: #ff00ff; text-decoration-color: #ff00ff\">otari-gender-data-analysis.</span>                                            <span style=\"color: #7f7f7f; text-decoration-color: #7f7f7f\">               </span>\n",
       "<span style=\"color: #7fbfbf; text-decoration-color: #7fbfbf\">                    </span>         To set a different path, run <span style=\"color: #008000; text-decoration-color: #008000\">'%reload_kedro &lt;project_root&gt;'</span>            <span style=\"color: #7f7f7f; text-decoration-color: #7f7f7f\">               </span>\n",
       "</pre>\n"
      ],
      "text/plain": [
       "\u001b[2;36m                   \u001b[0m\u001b[2;36m \u001b[0m\u001b[34mINFO    \u001b[0m Resolved project path as:                                              \u001b]8;id=503142;file:///home/gabriel/Escritorio/Proyectos/UBO/Erik_Escalona/kotari_proyecto/kotari-gender-data-analysis/.venv/lib/python3.11/site-packages/kedro/ipython/__init__.py\u001b\\\u001b[2m__init__.py\u001b[0m\u001b]8;;\u001b\\\u001b[2m:\u001b[0m\u001b]8;id=283984;file:///home/gabriel/Escritorio/Proyectos/UBO/Erik_Escalona/kotari_proyecto/kotari-gender-data-analysis/.venv/lib/python3.11/site-packages/kedro/ipython/__init__.py#180\u001b\\\u001b[2m180\u001b[0m\u001b]8;;\u001b\\\n",
       "\u001b[2;36m                    \u001b[0m         \u001b[35m/home/gabriel/Escritorio/Proyectos/UBO/Erik_Escalona/kotari_proyecto/\u001b[0m\u001b[95mk\u001b[0m \u001b[2m               \u001b[0m\n",
       "\u001b[2;36m                    \u001b[0m         \u001b[95motari-gender-data-analysis.\u001b[0m                                            \u001b[2m               \u001b[0m\n",
       "\u001b[2;36m                    \u001b[0m         To set a different path, run \u001b[32m'%reload_kedro \u001b[0m\u001b[32m<\u001b[0m\u001b[32mproject_root\u001b[0m\u001b[32m>\u001b[0m\u001b[32m'\u001b[0m            \u001b[2m               \u001b[0m\n"
      ]
     },
     "metadata": {},
     "output_type": "display_data"
    },
    {
     "data": {
      "text/html": [
       "<pre style=\"white-space:pre;overflow-x:auto;line-height:normal;font-family:Menlo,'DejaVu Sans Mono',consolas,'Courier New',monospace\"><span style=\"color: #7fbfbf; text-decoration-color: #7fbfbf\">[10/04/25 13:35:52] </span><span style=\"color: #000080; text-decoration-color: #000080\">INFO    </span> Kedro is sending anonymous usage data with the sole purpose of improving <a href=\"file:///home/gabriel/Escritorio/Proyectos/UBO/Erik_Escalona/kotari_proyecto/kotari-gender-data-analysis/.venv/lib/python3.11/site-packages/kedro_telemetry/plugin.py\" target=\"_blank\"><span style=\"color: #7f7f7f; text-decoration-color: #7f7f7f\">plugin.py</span></a><span style=\"color: #7f7f7f; text-decoration-color: #7f7f7f\">:</span><a href=\"file:///home/gabriel/Escritorio/Proyectos/UBO/Erik_Escalona/kotari_proyecto/kotari-gender-data-analysis/.venv/lib/python3.11/site-packages/kedro_telemetry/plugin.py#243\" target=\"_blank\"><span style=\"color: #7f7f7f; text-decoration-color: #7f7f7f\">243</span></a>\n",
       "<span style=\"color: #7fbfbf; text-decoration-color: #7fbfbf\">                    </span>         the product. No personal data or IP addresses are stored on our side. To <span style=\"color: #7f7f7f; text-decoration-color: #7f7f7f\">             </span>\n",
       "<span style=\"color: #7fbfbf; text-decoration-color: #7fbfbf\">                    </span>         opt out, set the `KEDRO_DISABLE_TELEMETRY` or `DO_NOT_TRACK` environment <span style=\"color: #7f7f7f; text-decoration-color: #7f7f7f\">             </span>\n",
       "<span style=\"color: #7fbfbf; text-decoration-color: #7fbfbf\">                    </span>         variables, or create a `.telemetry` file in the current working          <span style=\"color: #7f7f7f; text-decoration-color: #7f7f7f\">             </span>\n",
       "<span style=\"color: #7fbfbf; text-decoration-color: #7fbfbf\">                    </span>         directory with the contents `consent: false`. To hide this message,      <span style=\"color: #7f7f7f; text-decoration-color: #7f7f7f\">             </span>\n",
       "<span style=\"color: #7fbfbf; text-decoration-color: #7fbfbf\">                    </span>         explicitly grant or deny consent. Read more at                           <span style=\"color: #7f7f7f; text-decoration-color: #7f7f7f\">             </span>\n",
       "<span style=\"color: #7fbfbf; text-decoration-color: #7fbfbf\">                    </span>         <span style=\"color: #0000ff; text-decoration-color: #0000ff; text-decoration: underline\">https://docs.kedro.org/en/stable/configuration/telemetry.html</span>            <span style=\"color: #7f7f7f; text-decoration-color: #7f7f7f\">             </span>\n",
       "</pre>\n"
      ],
      "text/plain": [
       "\u001b[2;36m[10/04/25 13:35:52]\u001b[0m\u001b[2;36m \u001b[0m\u001b[34mINFO    \u001b[0m Kedro is sending anonymous usage data with the sole purpose of improving \u001b]8;id=417353;file:///home/gabriel/Escritorio/Proyectos/UBO/Erik_Escalona/kotari_proyecto/kotari-gender-data-analysis/.venv/lib/python3.11/site-packages/kedro_telemetry/plugin.py\u001b\\\u001b[2mplugin.py\u001b[0m\u001b]8;;\u001b\\\u001b[2m:\u001b[0m\u001b]8;id=422511;file:///home/gabriel/Escritorio/Proyectos/UBO/Erik_Escalona/kotari_proyecto/kotari-gender-data-analysis/.venv/lib/python3.11/site-packages/kedro_telemetry/plugin.py#243\u001b\\\u001b[2m243\u001b[0m\u001b]8;;\u001b\\\n",
       "\u001b[2;36m                    \u001b[0m         the product. No personal data or IP addresses are stored on our side. To \u001b[2m             \u001b[0m\n",
       "\u001b[2;36m                    \u001b[0m         opt out, set the `KEDRO_DISABLE_TELEMETRY` or `DO_NOT_TRACK` environment \u001b[2m             \u001b[0m\n",
       "\u001b[2;36m                    \u001b[0m         variables, or create a `.telemetry` file in the current working          \u001b[2m             \u001b[0m\n",
       "\u001b[2;36m                    \u001b[0m         directory with the contents `consent: false`. To hide this message,      \u001b[2m             \u001b[0m\n",
       "\u001b[2;36m                    \u001b[0m         explicitly grant or deny consent. Read more at                           \u001b[2m             \u001b[0m\n",
       "\u001b[2;36m                    \u001b[0m         \u001b[4;94mhttps://docs.kedro.org/en/stable/configuration/telemetry.html\u001b[0m            \u001b[2m             \u001b[0m\n"
      ]
     },
     "metadata": {},
     "output_type": "display_data"
    },
    {
     "data": {
      "text/html": [
       "<pre style=\"white-space:pre;overflow-x:auto;line-height:normal;font-family:Menlo,'DejaVu Sans Mono',consolas,'Courier New',monospace\"><span style=\"color: #7fbfbf; text-decoration-color: #7fbfbf\">[10/04/25 13:36:12] </span><span style=\"color: #000080; text-decoration-color: #000080\">INFO    </span> Kedro project kotari-gender-data-analysis                              <a href=\"file:///home/gabriel/Escritorio/Proyectos/UBO/Erik_Escalona/kotari_proyecto/kotari-gender-data-analysis/.venv/lib/python3.11/site-packages/kedro/ipython/__init__.py\" target=\"_blank\"><span style=\"color: #7f7f7f; text-decoration-color: #7f7f7f\">__init__.py</span></a><span style=\"color: #7f7f7f; text-decoration-color: #7f7f7f\">:</span><a href=\"file:///home/gabriel/Escritorio/Proyectos/UBO/Erik_Escalona/kotari_proyecto/kotari-gender-data-analysis/.venv/lib/python3.11/site-packages/kedro/ipython/__init__.py#146\" target=\"_blank\"><span style=\"color: #7f7f7f; text-decoration-color: #7f7f7f\">146</span></a>\n",
       "</pre>\n"
      ],
      "text/plain": [
       "\u001b[2;36m[10/04/25 13:36:12]\u001b[0m\u001b[2;36m \u001b[0m\u001b[34mINFO    \u001b[0m Kedro project kotari-gender-data-analysis                              \u001b]8;id=978013;file:///home/gabriel/Escritorio/Proyectos/UBO/Erik_Escalona/kotari_proyecto/kotari-gender-data-analysis/.venv/lib/python3.11/site-packages/kedro/ipython/__init__.py\u001b\\\u001b[2m__init__.py\u001b[0m\u001b]8;;\u001b\\\u001b[2m:\u001b[0m\u001b]8;id=111736;file:///home/gabriel/Escritorio/Proyectos/UBO/Erik_Escalona/kotari_proyecto/kotari-gender-data-analysis/.venv/lib/python3.11/site-packages/kedro/ipython/__init__.py#146\u001b\\\u001b[2m146\u001b[0m\u001b]8;;\u001b\\\n"
      ]
     },
     "metadata": {},
     "output_type": "display_data"
    },
    {
     "data": {
      "text/html": [
       "<pre style=\"white-space:pre;overflow-x:auto;line-height:normal;font-family:Menlo,'DejaVu Sans Mono',consolas,'Courier New',monospace\"><span style=\"color: #7fbfbf; text-decoration-color: #7fbfbf\">                    </span><span style=\"color: #000080; text-decoration-color: #000080\">INFO    </span> Defined global variable <span style=\"color: #008000; text-decoration-color: #008000\">'context'</span>, <span style=\"color: #008000; text-decoration-color: #008000\">'session'</span>, <span style=\"color: #008000; text-decoration-color: #008000\">'catalog'</span> and            <a href=\"file:///home/gabriel/Escritorio/Proyectos/UBO/Erik_Escalona/kotari_proyecto/kotari-gender-data-analysis/.venv/lib/python3.11/site-packages/kedro/ipython/__init__.py\" target=\"_blank\"><span style=\"color: #7f7f7f; text-decoration-color: #7f7f7f\">__init__.py</span></a><span style=\"color: #7f7f7f; text-decoration-color: #7f7f7f\">:</span><a href=\"file:///home/gabriel/Escritorio/Proyectos/UBO/Erik_Escalona/kotari_proyecto/kotari-gender-data-analysis/.venv/lib/python3.11/site-packages/kedro/ipython/__init__.py#147\" target=\"_blank\"><span style=\"color: #7f7f7f; text-decoration-color: #7f7f7f\">147</span></a>\n",
       "<span style=\"color: #7fbfbf; text-decoration-color: #7fbfbf\">                    </span>         <span style=\"color: #008000; text-decoration-color: #008000\">'pipelines'</span>                                                            <span style=\"color: #7f7f7f; text-decoration-color: #7f7f7f\">               </span>\n",
       "</pre>\n"
      ],
      "text/plain": [
       "\u001b[2;36m                   \u001b[0m\u001b[2;36m \u001b[0m\u001b[34mINFO    \u001b[0m Defined global variable \u001b[32m'context'\u001b[0m, \u001b[32m'session'\u001b[0m, \u001b[32m'catalog'\u001b[0m and            \u001b]8;id=130697;file:///home/gabriel/Escritorio/Proyectos/UBO/Erik_Escalona/kotari_proyecto/kotari-gender-data-analysis/.venv/lib/python3.11/site-packages/kedro/ipython/__init__.py\u001b\\\u001b[2m__init__.py\u001b[0m\u001b]8;;\u001b\\\u001b[2m:\u001b[0m\u001b]8;id=865601;file:///home/gabriel/Escritorio/Proyectos/UBO/Erik_Escalona/kotari_proyecto/kotari-gender-data-analysis/.venv/lib/python3.11/site-packages/kedro/ipython/__init__.py#147\u001b\\\u001b[2m147\u001b[0m\u001b]8;;\u001b\\\n",
       "\u001b[2;36m                    \u001b[0m         \u001b[32m'pipelines'\u001b[0m                                                            \u001b[2m               \u001b[0m\n"
      ]
     },
     "metadata": {},
     "output_type": "display_data"
    },
    {
     "data": {
      "text/html": [
       "<pre style=\"white-space:pre;overflow-x:auto;line-height:normal;font-family:Menlo,'DejaVu Sans Mono',consolas,'Courier New',monospace\"><span style=\"color: #7fbfbf; text-decoration-color: #7fbfbf\">[10/04/25 13:36:13] </span><span style=\"color: #000080; text-decoration-color: #000080\">INFO    </span> Registered line magic <span style=\"color: #008000; text-decoration-color: #008000\">'run_viz'</span>                                        <a href=\"file:///home/gabriel/Escritorio/Proyectos/UBO/Erik_Escalona/kotari_proyecto/kotari-gender-data-analysis/.venv/lib/python3.11/site-packages/kedro/ipython/__init__.py\" target=\"_blank\"><span style=\"color: #7f7f7f; text-decoration-color: #7f7f7f\">__init__.py</span></a><span style=\"color: #7f7f7f; text-decoration-color: #7f7f7f\">:</span><a href=\"file:///home/gabriel/Escritorio/Proyectos/UBO/Erik_Escalona/kotari_proyecto/kotari-gender-data-analysis/.venv/lib/python3.11/site-packages/kedro/ipython/__init__.py#153\" target=\"_blank\"><span style=\"color: #7f7f7f; text-decoration-color: #7f7f7f\">153</span></a>\n",
       "</pre>\n"
      ],
      "text/plain": [
       "\u001b[2;36m[10/04/25 13:36:13]\u001b[0m\u001b[2;36m \u001b[0m\u001b[34mINFO    \u001b[0m Registered line magic \u001b[32m'run_viz'\u001b[0m                                        \u001b]8;id=258641;file:///home/gabriel/Escritorio/Proyectos/UBO/Erik_Escalona/kotari_proyecto/kotari-gender-data-analysis/.venv/lib/python3.11/site-packages/kedro/ipython/__init__.py\u001b\\\u001b[2m__init__.py\u001b[0m\u001b]8;;\u001b\\\u001b[2m:\u001b[0m\u001b]8;id=32907;file:///home/gabriel/Escritorio/Proyectos/UBO/Erik_Escalona/kotari_proyecto/kotari-gender-data-analysis/.venv/lib/python3.11/site-packages/kedro/ipython/__init__.py#153\u001b\\\u001b[2m153\u001b[0m\u001b]8;;\u001b\\\n"
      ]
     },
     "metadata": {},
     "output_type": "display_data"
    },
    {
     "data": {
      "text/html": [
       "<pre style=\"white-space:pre;overflow-x:auto;line-height:normal;font-family:Menlo,'DejaVu Sans Mono',consolas,'Courier New',monospace\"><span style=\"color: #7fbfbf; text-decoration-color: #7fbfbf\">                    </span><span style=\"color: #000080; text-decoration-color: #000080\">INFO    </span> Resolved project path as:                                              <a href=\"file:///home/gabriel/Escritorio/Proyectos/UBO/Erik_Escalona/kotari_proyecto/kotari-gender-data-analysis/.venv/lib/python3.11/site-packages/kedro/ipython/__init__.py\" target=\"_blank\"><span style=\"color: #7f7f7f; text-decoration-color: #7f7f7f\">__init__.py</span></a><span style=\"color: #7f7f7f; text-decoration-color: #7f7f7f\">:</span><a href=\"file:///home/gabriel/Escritorio/Proyectos/UBO/Erik_Escalona/kotari_proyecto/kotari-gender-data-analysis/.venv/lib/python3.11/site-packages/kedro/ipython/__init__.py#180\" target=\"_blank\"><span style=\"color: #7f7f7f; text-decoration-color: #7f7f7f\">180</span></a>\n",
       "<span style=\"color: #7fbfbf; text-decoration-color: #7fbfbf\">                    </span>         <span style=\"color: #800080; text-decoration-color: #800080\">/home/gabriel/Escritorio/Proyectos/UBO/Erik_Escalona/kotari_proyecto/</span><span style=\"color: #ff00ff; text-decoration-color: #ff00ff\">k</span> <span style=\"color: #7f7f7f; text-decoration-color: #7f7f7f\">               </span>\n",
       "<span style=\"color: #7fbfbf; text-decoration-color: #7fbfbf\">                    </span>         <span style=\"color: #ff00ff; text-decoration-color: #ff00ff\">otari-gender-data-analysis.</span>                                            <span style=\"color: #7f7f7f; text-decoration-color: #7f7f7f\">               </span>\n",
       "<span style=\"color: #7fbfbf; text-decoration-color: #7fbfbf\">                    </span>         To set a different path, run <span style=\"color: #008000; text-decoration-color: #008000\">'%reload_kedro &lt;project_root&gt;'</span>            <span style=\"color: #7f7f7f; text-decoration-color: #7f7f7f\">               </span>\n",
       "</pre>\n"
      ],
      "text/plain": [
       "\u001b[2;36m                   \u001b[0m\u001b[2;36m \u001b[0m\u001b[34mINFO    \u001b[0m Resolved project path as:                                              \u001b]8;id=857731;file:///home/gabriel/Escritorio/Proyectos/UBO/Erik_Escalona/kotari_proyecto/kotari-gender-data-analysis/.venv/lib/python3.11/site-packages/kedro/ipython/__init__.py\u001b\\\u001b[2m__init__.py\u001b[0m\u001b]8;;\u001b\\\u001b[2m:\u001b[0m\u001b]8;id=254943;file:///home/gabriel/Escritorio/Proyectos/UBO/Erik_Escalona/kotari_proyecto/kotari-gender-data-analysis/.venv/lib/python3.11/site-packages/kedro/ipython/__init__.py#180\u001b\\\u001b[2m180\u001b[0m\u001b]8;;\u001b\\\n",
       "\u001b[2;36m                    \u001b[0m         \u001b[35m/home/gabriel/Escritorio/Proyectos/UBO/Erik_Escalona/kotari_proyecto/\u001b[0m\u001b[95mk\u001b[0m \u001b[2m               \u001b[0m\n",
       "\u001b[2;36m                    \u001b[0m         \u001b[95motari-gender-data-analysis.\u001b[0m                                            \u001b[2m               \u001b[0m\n",
       "\u001b[2;36m                    \u001b[0m         To set a different path, run \u001b[32m'%reload_kedro \u001b[0m\u001b[32m<\u001b[0m\u001b[32mproject_root\u001b[0m\u001b[32m>\u001b[0m\u001b[32m'\u001b[0m            \u001b[2m               \u001b[0m\n"
      ]
     },
     "metadata": {},
     "output_type": "display_data"
    },
    {
     "data": {
      "text/html": [
       "<pre style=\"white-space:pre;overflow-x:auto;line-height:normal;font-family:Menlo,'DejaVu Sans Mono',consolas,'Courier New',monospace\"><span style=\"color: #7fbfbf; text-decoration-color: #7fbfbf\">                    </span><span style=\"color: #000080; text-decoration-color: #000080\">INFO    </span> Kedro is sending anonymous usage data with the sole purpose of improving <a href=\"file:///home/gabriel/Escritorio/Proyectos/UBO/Erik_Escalona/kotari_proyecto/kotari-gender-data-analysis/.venv/lib/python3.11/site-packages/kedro_telemetry/plugin.py\" target=\"_blank\"><span style=\"color: #7f7f7f; text-decoration-color: #7f7f7f\">plugin.py</span></a><span style=\"color: #7f7f7f; text-decoration-color: #7f7f7f\">:</span><a href=\"file:///home/gabriel/Escritorio/Proyectos/UBO/Erik_Escalona/kotari_proyecto/kotari-gender-data-analysis/.venv/lib/python3.11/site-packages/kedro_telemetry/plugin.py#243\" target=\"_blank\"><span style=\"color: #7f7f7f; text-decoration-color: #7f7f7f\">243</span></a>\n",
       "<span style=\"color: #7fbfbf; text-decoration-color: #7fbfbf\">                    </span>         the product. No personal data or IP addresses are stored on our side. To <span style=\"color: #7f7f7f; text-decoration-color: #7f7f7f\">             </span>\n",
       "<span style=\"color: #7fbfbf; text-decoration-color: #7fbfbf\">                    </span>         opt out, set the `KEDRO_DISABLE_TELEMETRY` or `DO_NOT_TRACK` environment <span style=\"color: #7f7f7f; text-decoration-color: #7f7f7f\">             </span>\n",
       "<span style=\"color: #7fbfbf; text-decoration-color: #7fbfbf\">                    </span>         variables, or create a `.telemetry` file in the current working          <span style=\"color: #7f7f7f; text-decoration-color: #7f7f7f\">             </span>\n",
       "<span style=\"color: #7fbfbf; text-decoration-color: #7fbfbf\">                    </span>         directory with the contents `consent: false`. To hide this message,      <span style=\"color: #7f7f7f; text-decoration-color: #7f7f7f\">             </span>\n",
       "<span style=\"color: #7fbfbf; text-decoration-color: #7fbfbf\">                    </span>         explicitly grant or deny consent. Read more at                           <span style=\"color: #7f7f7f; text-decoration-color: #7f7f7f\">             </span>\n",
       "<span style=\"color: #7fbfbf; text-decoration-color: #7fbfbf\">                    </span>         <span style=\"color: #0000ff; text-decoration-color: #0000ff; text-decoration: underline\">https://docs.kedro.org/en/stable/configuration/telemetry.html</span>            <span style=\"color: #7f7f7f; text-decoration-color: #7f7f7f\">             </span>\n",
       "</pre>\n"
      ],
      "text/plain": [
       "\u001b[2;36m                   \u001b[0m\u001b[2;36m \u001b[0m\u001b[34mINFO    \u001b[0m Kedro is sending anonymous usage data with the sole purpose of improving \u001b]8;id=106997;file:///home/gabriel/Escritorio/Proyectos/UBO/Erik_Escalona/kotari_proyecto/kotari-gender-data-analysis/.venv/lib/python3.11/site-packages/kedro_telemetry/plugin.py\u001b\\\u001b[2mplugin.py\u001b[0m\u001b]8;;\u001b\\\u001b[2m:\u001b[0m\u001b]8;id=809898;file:///home/gabriel/Escritorio/Proyectos/UBO/Erik_Escalona/kotari_proyecto/kotari-gender-data-analysis/.venv/lib/python3.11/site-packages/kedro_telemetry/plugin.py#243\u001b\\\u001b[2m243\u001b[0m\u001b]8;;\u001b\\\n",
       "\u001b[2;36m                    \u001b[0m         the product. No personal data or IP addresses are stored on our side. To \u001b[2m             \u001b[0m\n",
       "\u001b[2;36m                    \u001b[0m         opt out, set the `KEDRO_DISABLE_TELEMETRY` or `DO_NOT_TRACK` environment \u001b[2m             \u001b[0m\n",
       "\u001b[2;36m                    \u001b[0m         variables, or create a `.telemetry` file in the current working          \u001b[2m             \u001b[0m\n",
       "\u001b[2;36m                    \u001b[0m         directory with the contents `consent: false`. To hide this message,      \u001b[2m             \u001b[0m\n",
       "\u001b[2;36m                    \u001b[0m         explicitly grant or deny consent. Read more at                           \u001b[2m             \u001b[0m\n",
       "\u001b[2;36m                    \u001b[0m         \u001b[4;94mhttps://docs.kedro.org/en/stable/configuration/telemetry.html\u001b[0m            \u001b[2m             \u001b[0m\n"
      ]
     },
     "metadata": {},
     "output_type": "display_data"
    },
    {
     "data": {
      "text/html": [
       "<pre style=\"white-space:pre;overflow-x:auto;line-height:normal;font-family:Menlo,'DejaVu Sans Mono',consolas,'Courier New',monospace\"><span style=\"color: #7fbfbf; text-decoration-color: #7fbfbf\">                    </span><span style=\"color: #000080; text-decoration-color: #000080\">INFO    </span> Kedro project kotari-gender-data-analysis                              <a href=\"file:///home/gabriel/Escritorio/Proyectos/UBO/Erik_Escalona/kotari_proyecto/kotari-gender-data-analysis/.venv/lib/python3.11/site-packages/kedro/ipython/__init__.py\" target=\"_blank\"><span style=\"color: #7f7f7f; text-decoration-color: #7f7f7f\">__init__.py</span></a><span style=\"color: #7f7f7f; text-decoration-color: #7f7f7f\">:</span><a href=\"file:///home/gabriel/Escritorio/Proyectos/UBO/Erik_Escalona/kotari_proyecto/kotari-gender-data-analysis/.venv/lib/python3.11/site-packages/kedro/ipython/__init__.py#146\" target=\"_blank\"><span style=\"color: #7f7f7f; text-decoration-color: #7f7f7f\">146</span></a>\n",
       "</pre>\n"
      ],
      "text/plain": [
       "\u001b[2;36m                   \u001b[0m\u001b[2;36m \u001b[0m\u001b[34mINFO    \u001b[0m Kedro project kotari-gender-data-analysis                              \u001b]8;id=319672;file:///home/gabriel/Escritorio/Proyectos/UBO/Erik_Escalona/kotari_proyecto/kotari-gender-data-analysis/.venv/lib/python3.11/site-packages/kedro/ipython/__init__.py\u001b\\\u001b[2m__init__.py\u001b[0m\u001b]8;;\u001b\\\u001b[2m:\u001b[0m\u001b]8;id=554675;file:///home/gabriel/Escritorio/Proyectos/UBO/Erik_Escalona/kotari_proyecto/kotari-gender-data-analysis/.venv/lib/python3.11/site-packages/kedro/ipython/__init__.py#146\u001b\\\u001b[2m146\u001b[0m\u001b]8;;\u001b\\\n"
      ]
     },
     "metadata": {},
     "output_type": "display_data"
    },
    {
     "data": {
      "text/html": [
       "<pre style=\"white-space:pre;overflow-x:auto;line-height:normal;font-family:Menlo,'DejaVu Sans Mono',consolas,'Courier New',monospace\"><span style=\"color: #7fbfbf; text-decoration-color: #7fbfbf\">                    </span><span style=\"color: #000080; text-decoration-color: #000080\">INFO    </span> Defined global variable <span style=\"color: #008000; text-decoration-color: #008000\">'context'</span>, <span style=\"color: #008000; text-decoration-color: #008000\">'session'</span>, <span style=\"color: #008000; text-decoration-color: #008000\">'catalog'</span> and            <a href=\"file:///home/gabriel/Escritorio/Proyectos/UBO/Erik_Escalona/kotari_proyecto/kotari-gender-data-analysis/.venv/lib/python3.11/site-packages/kedro/ipython/__init__.py\" target=\"_blank\"><span style=\"color: #7f7f7f; text-decoration-color: #7f7f7f\">__init__.py</span></a><span style=\"color: #7f7f7f; text-decoration-color: #7f7f7f\">:</span><a href=\"file:///home/gabriel/Escritorio/Proyectos/UBO/Erik_Escalona/kotari_proyecto/kotari-gender-data-analysis/.venv/lib/python3.11/site-packages/kedro/ipython/__init__.py#147\" target=\"_blank\"><span style=\"color: #7f7f7f; text-decoration-color: #7f7f7f\">147</span></a>\n",
       "<span style=\"color: #7fbfbf; text-decoration-color: #7fbfbf\">                    </span>         <span style=\"color: #008000; text-decoration-color: #008000\">'pipelines'</span>                                                            <span style=\"color: #7f7f7f; text-decoration-color: #7f7f7f\">               </span>\n",
       "</pre>\n"
      ],
      "text/plain": [
       "\u001b[2;36m                   \u001b[0m\u001b[2;36m \u001b[0m\u001b[34mINFO    \u001b[0m Defined global variable \u001b[32m'context'\u001b[0m, \u001b[32m'session'\u001b[0m, \u001b[32m'catalog'\u001b[0m and            \u001b]8;id=69165;file:///home/gabriel/Escritorio/Proyectos/UBO/Erik_Escalona/kotari_proyecto/kotari-gender-data-analysis/.venv/lib/python3.11/site-packages/kedro/ipython/__init__.py\u001b\\\u001b[2m__init__.py\u001b[0m\u001b]8;;\u001b\\\u001b[2m:\u001b[0m\u001b]8;id=956148;file:///home/gabriel/Escritorio/Proyectos/UBO/Erik_Escalona/kotari_proyecto/kotari-gender-data-analysis/.venv/lib/python3.11/site-packages/kedro/ipython/__init__.py#147\u001b\\\u001b[2m147\u001b[0m\u001b]8;;\u001b\\\n",
       "\u001b[2;36m                    \u001b[0m         \u001b[32m'pipelines'\u001b[0m                                                            \u001b[2m               \u001b[0m\n"
      ]
     },
     "metadata": {},
     "output_type": "display_data"
    },
    {
     "data": {
      "text/html": [
       "<pre style=\"white-space:pre;overflow-x:auto;line-height:normal;font-family:Menlo,'DejaVu Sans Mono',consolas,'Courier New',monospace\"><span style=\"color: #7fbfbf; text-decoration-color: #7fbfbf\">                    </span><span style=\"color: #000080; text-decoration-color: #000080\">INFO    </span> Registered line magic <span style=\"color: #008000; text-decoration-color: #008000\">'run_viz'</span>                                        <a href=\"file:///home/gabriel/Escritorio/Proyectos/UBO/Erik_Escalona/kotari_proyecto/kotari-gender-data-analysis/.venv/lib/python3.11/site-packages/kedro/ipython/__init__.py\" target=\"_blank\"><span style=\"color: #7f7f7f; text-decoration-color: #7f7f7f\">__init__.py</span></a><span style=\"color: #7f7f7f; text-decoration-color: #7f7f7f\">:</span><a href=\"file:///home/gabriel/Escritorio/Proyectos/UBO/Erik_Escalona/kotari_proyecto/kotari-gender-data-analysis/.venv/lib/python3.11/site-packages/kedro/ipython/__init__.py#153\" target=\"_blank\"><span style=\"color: #7f7f7f; text-decoration-color: #7f7f7f\">153</span></a>\n",
       "</pre>\n"
      ],
      "text/plain": [
       "\u001b[2;36m                   \u001b[0m\u001b[2;36m \u001b[0m\u001b[34mINFO    \u001b[0m Registered line magic \u001b[32m'run_viz'\u001b[0m                                        \u001b]8;id=764971;file:///home/gabriel/Escritorio/Proyectos/UBO/Erik_Escalona/kotari_proyecto/kotari-gender-data-analysis/.venv/lib/python3.11/site-packages/kedro/ipython/__init__.py\u001b\\\u001b[2m__init__.py\u001b[0m\u001b]8;;\u001b\\\u001b[2m:\u001b[0m\u001b]8;id=285897;file:///home/gabriel/Escritorio/Proyectos/UBO/Erik_Escalona/kotari_proyecto/kotari-gender-data-analysis/.venv/lib/python3.11/site-packages/kedro/ipython/__init__.py#153\u001b\\\u001b[2m153\u001b[0m\u001b]8;;\u001b\\\n"
      ]
     },
     "metadata": {},
     "output_type": "display_data"
    }
   ],
   "source": [
    "# Cargar la sesión de Kedro para acceder al catálogo de datos\n",
    "%load_ext kedro.ipython\n",
    "%reload_kedro"
   ]
  },
  {
   "cell_type": "markdown",
   "metadata": {},
   "source": [
    "## Carga de Datos\n",
    "Cargamos el conjunto de datos `raw_mineria_data` definido en `conf/base/catalog.yml`. Este archivo Excel contiene múltiples hojas con información de minería."
   ]
  },
  {
   "cell_type": "code",
   "execution_count": 8,
   "metadata": {},
   "outputs": [
    {
     "data": {
      "text/html": [
       "<pre style=\"white-space:pre;overflow-x:auto;line-height:normal;font-family:Menlo,'DejaVu Sans Mono',consolas,'Courier New',monospace\"><span style=\"color: #7fbfbf; text-decoration-color: #7fbfbf\">[10/04/25 18:23:55] </span><span style=\"color: #000080; text-decoration-color: #000080\">INFO    </span> Loading data from <span style=\"color: #ff8700; text-decoration-color: #ff8700\">raw_mineria_data</span> <span style=\"font-weight: bold\">(</span>ExcelDataset<span style=\"font-weight: bold\">)</span><span style=\"color: #808000; text-decoration-color: #808000\">...</span>               <a href=\"file:///home/gabriel/Escritorio/Proyectos/UBO/Erik_Escalona/kotari_proyecto/kotari-gender-data-analysis/.venv/lib/python3.11/site-packages/kedro/io/data_catalog.py\" target=\"_blank\"><span style=\"color: #7f7f7f; text-decoration-color: #7f7f7f\">data_catalog.py</span></a><span style=\"color: #7f7f7f; text-decoration-color: #7f7f7f\">:</span><a href=\"file:///home/gabriel/Escritorio/Proyectos/UBO/Erik_Escalona/kotari_proyecto/kotari-gender-data-analysis/.venv/lib/python3.11/site-packages/kedro/io/data_catalog.py#403\" target=\"_blank\"><span style=\"color: #7f7f7f; text-decoration-color: #7f7f7f\">403</span></a>\n",
       "</pre>\n"
      ],
      "text/plain": [
       "\u001b[2;36m[10/04/25 18:23:55]\u001b[0m\u001b[2;36m \u001b[0m\u001b[34mINFO    \u001b[0m Loading data from \u001b[38;5;208mraw_mineria_data\u001b[0m \u001b[1m(\u001b[0mExcelDataset\u001b[1m)\u001b[0m\u001b[33m...\u001b[0m               \u001b]8;id=254618;file:///home/gabriel/Escritorio/Proyectos/UBO/Erik_Escalona/kotari_proyecto/kotari-gender-data-analysis/.venv/lib/python3.11/site-packages/kedro/io/data_catalog.py\u001b\\\u001b[2mdata_catalog.py\u001b[0m\u001b]8;;\u001b\\\u001b[2m:\u001b[0m\u001b]8;id=478390;file:///home/gabriel/Escritorio/Proyectos/UBO/Erik_Escalona/kotari_proyecto/kotari-gender-data-analysis/.venv/lib/python3.11/site-packages/kedro/io/data_catalog.py#403\u001b\\\u001b[2m403\u001b[0m\u001b]8;;\u001b\\\n"
      ]
     },
     "metadata": {},
     "output_type": "display_data"
    },
    {
     "name": "stdout",
     "output_type": "stream",
     "text": [
      "Se encontraron 2 hojas en el archivo Excel:\n",
      "==================================================\n",
      "  1. BASE DE DATOS\n",
      "  2. LISTADO EMPRESA\n"
     ]
    }
   ],
   "source": [
    "data = catalog.load(\"raw_mineria_data\")\n",
    "print(f\"Se encontraron {len(data)} hojas en el archivo Excel:\")\n",
    "print(\"=\" * 50)\n",
    "for i, sheet_name in enumerate(data.keys(), 1):\n",
    "    print(f\"  {i}. {sheet_name}\")"
   ]
  },
  {
   "cell_type": "markdown",
   "metadata": {},
   "source": [
    "---\n",
    "\n",
    "## Análisis por Hoja\n",
    "\n",
    "A continuación se presenta un análisis detallado de cada hoja del archivo Excel, incluyendo:\n",
    "- Dimensiones (filas y columnas)\n",
    "- Tipos de datos\n",
    "- Valores faltantes\n",
    "- Distribución de valores únicos\n",
    "- Análisis de variables categóricas"
   ]
  },
  {
   "cell_type": "code",
   "execution_count": 9,
   "metadata": {},
   "outputs": [],
   "source": [
    "# Importar librerías necesarias\n",
    "import pandas as pd\n",
    "import numpy as np\n",
    "from IPython.display import display, Markdown"
   ]
  },
  {
   "cell_type": "code",
   "execution_count": 10,
   "metadata": {},
   "outputs": [
    {
     "data": {
      "text/html": [
       "<pre style=\"white-space:pre;overflow-x:auto;line-height:normal;font-family:Menlo,'DejaVu Sans Mono',consolas,'Courier New',monospace\"></pre>\n"
      ],
      "text/plain": []
     },
     "metadata": {},
     "output_type": "display_data"
    },
    {
     "data": {
      "text/markdown": [
       "### Hoja: BASE DE DATOS"
      ],
      "text/plain": [
       "\u001b[1m<\u001b[0m\u001b[1;95mIPython.core.display.Markdown\u001b[0m\u001b[39m object\u001b[0m\u001b[1m>\u001b[0m"
      ]
     },
     "metadata": {},
     "output_type": "display_data"
    },
    {
     "data": {
      "text/html": [
       "<pre style=\"white-space:pre;overflow-x:auto;line-height:normal;font-family:Menlo,'DejaVu Sans Mono',consolas,'Courier New',monospace\"></pre>\n"
      ],
      "text/plain": []
     },
     "metadata": {},
     "output_type": "display_data"
    },
    {
     "data": {
      "text/markdown": [
       "---"
      ],
      "text/plain": [
       "\u001b[1m<\u001b[0m\u001b[1;95mIPython.core.display.Markdown\u001b[0m\u001b[39m object\u001b[0m\u001b[1m>\u001b[0m"
      ]
     },
     "metadata": {},
     "output_type": "display_data"
    },
    {
     "data": {
      "text/html": [
       "<pre style=\"white-space:pre;overflow-x:auto;line-height:normal;font-family:Menlo,'DejaVu Sans Mono',consolas,'Courier New',monospace\"></pre>\n"
      ],
      "text/plain": []
     },
     "metadata": {},
     "output_type": "display_data"
    },
    {
     "data": {
      "text/markdown": [
       "#### 1. Número de Filas y Columnas"
      ],
      "text/plain": [
       "\u001b[1m<\u001b[0m\u001b[1;95mIPython.core.display.Markdown\u001b[0m\u001b[39m object\u001b[0m\u001b[1m>\u001b[0m"
      ]
     },
     "metadata": {},
     "output_type": "display_data"
    },
    {
     "name": "stdout",
     "output_type": "stream",
     "text": [
      "La hoja 'BASE DE DATOS' tiene 209 filas y 24 columnas.\n"
     ]
    },
    {
     "data": {
      "text/html": [
       "<pre style=\"white-space:pre;overflow-x:auto;line-height:normal;font-family:Menlo,'DejaVu Sans Mono',consolas,'Courier New',monospace\"></pre>\n"
      ],
      "text/plain": []
     },
     "metadata": {},
     "output_type": "display_data"
    },
    {
     "data": {
      "text/markdown": [
       "#### 2. Tipos de Datos y Valores Faltantes"
      ],
      "text/plain": [
       "\u001b[1m<\u001b[0m\u001b[1;95mIPython.core.display.Markdown\u001b[0m\u001b[39m object\u001b[0m\u001b[1m>\u001b[0m"
      ]
     },
     "metadata": {},
     "output_type": "display_data"
    },
    {
     "name": "stdout",
     "output_type": "stream",
     "text": [
      "Información general del DataFrame:\n",
      "<class 'pandas.core.frame.DataFrame'>\n",
      "RangeIndex: 209 entries, 0 to 208\n",
      "Data columns (total 24 columns):\n",
      " #   Column                                                  Non-Null Count  Dtype  \n",
      "---  ------                                                  --------------  -----  \n",
      " 0   RUT                                                     209 non-null    object \n",
      " 1   EMPRESA                                                 209 non-null    object \n",
      " 2   COTIZA EN BOLSA                                         209 non-null    object \n",
      " 3   EMP. FAMI                                               209 non-null    object \n",
      " 4   ANIO                                                    209 non-null    int64  \n",
      " 5   UTILIDAD NETA                                           208 non-null    float64\n",
      " 6   TOTAL ACTIVOS                                           205 non-null    float64\n",
      " 7   PATRIMONIO                                              204 non-null    float64\n",
      " 8   UTILIDAD OPERACIONAL                                    194 non-null    float64\n",
      " 9   DEPRECIACIÓN Y AMORTIZACIÓN                             199 non-null    float64\n",
      " 10  ROA                                                     205 non-null    float64\n",
      " 11  ROE                                                     204 non-null    float64\n",
      " 12  EBDITA                                                  209 non-null    int64  \n",
      " 13  Cantidad de mujeres en Directorios (incluye suplentes)  208 non-null    float64\n",
      " 14  Total en Directorios                                    208 non-null    float64\n",
      " 15  Cantidad de mujeres en otros ejecutivos                 209 non-null    int64  \n",
      " 16  Total en otros ejecutivos                               209 non-null    int64  \n",
      " 17  Flujo efectivo de operación (CFO)                       169 non-null    float64\n",
      " 18  Activos total al inicio de anio                         170 non-null    float64\n",
      " 19  Ventas                                                  170 non-null    float64\n",
      " 20  Ventas del anio (diferencia)                            171 non-null    float64\n",
      " 21  Cuentas por cobrar                                      166 non-null    float64\n",
      " 22  Cuentas por cobrar (diferencia)                         170 non-null    float64\n",
      " 23  Propiedades, planta y equipo (PPE)                      163 non-null    float64\n",
      "dtypes: float64(16), int64(4), object(4)\n",
      "memory usage: 39.3+ KB\n",
      "\n",
      "==================================================\n",
      "Valores faltantes por columna:\n",
      "                                                    Valores Faltantes  \\\n",
      "Propiedades, planta y equipo (PPE)                                 46   \n",
      "Cuentas por cobrar                                                 43   \n",
      "Flujo efectivo de operación (CFO)                                  40   \n",
      "Activos total al inicio de anio                                    39   \n",
      "Ventas                                                             39   \n",
      "Cuentas por cobrar (diferencia)                                    39   \n",
      "Ventas del anio (diferencia)                                       38   \n",
      "UTILIDAD OPERACIONAL                                               15   \n",
      "DEPRECIACIÓN Y AMORTIZACIÓN                                        10   \n",
      "PATRIMONIO                                                          5   \n",
      "ROE                                                                 5   \n",
      "TOTAL ACTIVOS                                                       4   \n",
      "ROA                                                                 4   \n",
      "UTILIDAD NETA                                                       1   \n",
      "Cantidad de mujeres en Directorios (incluye sup...                  1   \n",
      "Total en Directorios                                                1   \n",
      "\n",
      "                                                    Porcentaje (%)  \n",
      "Propiedades, planta y equipo (PPE)                       22.009569  \n",
      "Cuentas por cobrar                                       20.574163  \n",
      "Flujo efectivo de operación (CFO)                        19.138756  \n",
      "Activos total al inicio de anio                          18.660287  \n",
      "Ventas                                                   18.660287  \n",
      "Cuentas por cobrar (diferencia)                          18.660287  \n",
      "Ventas del anio (diferencia)                             18.181818  \n",
      "UTILIDAD OPERACIONAL                                      7.177033  \n",
      "DEPRECIACIÓN Y AMORTIZACIÓN                               4.784689  \n",
      "PATRIMONIO                                                2.392344  \n",
      "ROE                                                       2.392344  \n",
      "TOTAL ACTIVOS                                             1.913876  \n",
      "ROA                                                       1.913876  \n",
      "UTILIDAD NETA                                             0.478469  \n",
      "Cantidad de mujeres en Directorios (incluye sup...        0.478469  \n",
      "Total en Directorios                                      0.478469  \n"
     ]
    },
    {
     "data": {
      "text/html": [
       "<pre style=\"white-space:pre;overflow-x:auto;line-height:normal;font-family:Menlo,'DejaVu Sans Mono',consolas,'Courier New',monospace\"></pre>\n"
      ],
      "text/plain": []
     },
     "metadata": {},
     "output_type": "display_data"
    },
    {
     "data": {
      "text/markdown": [
       "#### 3. Análisis de Valores Únicos"
      ],
      "text/plain": [
       "\u001b[1m<\u001b[0m\u001b[1;95mIPython.core.display.Markdown\u001b[0m\u001b[39m object\u001b[0m\u001b[1m>\u001b[0m"
      ]
     },
     "metadata": {},
     "output_type": "display_data"
    },
    {
     "name": "stdout",
     "output_type": "stream",
     "text": [
      "\n",
      "Número de valores únicos por columna:\n",
      "==================================================\n",
      "                                                    Valores Únicos  \\\n",
      "RUT                                                             19   \n",
      "EMPRESA                                                         19   \n",
      "COTIZA EN BOLSA                                                  1   \n",
      "EMP. FAMI                                                        1   \n",
      "ANIO                                                            11   \n",
      "UTILIDAD NETA                                                  204   \n",
      "TOTAL ACTIVOS                                                  200   \n",
      "PATRIMONIO                                                     198   \n",
      "UTILIDAD OPERACIONAL                                           184   \n",
      "DEPRECIACIÓN Y AMORTIZACIÓN                                    181   \n",
      "ROA                                                            203   \n",
      "ROE                                                            201   \n",
      "EBDITA                                                         194   \n",
      "Cantidad de mujeres en Directorios (incluye sup...               7   \n",
      "Total en Directorios                                            13   \n",
      "Cantidad de mujeres en otros ejecutivos                          7   \n",
      "Total en otros ejecutivos                                       28   \n",
      "Flujo efectivo de operación (CFO)                              168   \n",
      "Activos total al inicio de anio                                167   \n",
      "Ventas                                                         148   \n",
      "Ventas del anio (diferencia)                                   150   \n",
      "Cuentas por cobrar                                             159   \n",
      "Cuentas por cobrar (diferencia)                                160   \n",
      "Propiedades, planta y equipo (PPE)                             152   \n",
      "\n",
      "                                                    Porcentaje (%)  \n",
      "RUT                                                       9.090909  \n",
      "EMPRESA                                                   9.090909  \n",
      "COTIZA EN BOLSA                                           0.478469  \n",
      "EMP. FAMI                                                 0.478469  \n",
      "ANIO                                                      5.263158  \n",
      "UTILIDAD NETA                                            97.607656  \n",
      "TOTAL ACTIVOS                                            95.693780  \n",
      "PATRIMONIO                                               94.736842  \n",
      "UTILIDAD OPERACIONAL                                     88.038278  \n",
      "DEPRECIACIÓN Y AMORTIZACIÓN                              86.602871  \n",
      "ROA                                                      97.129187  \n",
      "ROE                                                      96.172249  \n",
      "EBDITA                                                   92.822967  \n",
      "Cantidad de mujeres en Directorios (incluye sup...        3.349282  \n",
      "Total en Directorios                                      6.220096  \n",
      "Cantidad de mujeres en otros ejecutivos                   3.349282  \n",
      "Total en otros ejecutivos                                13.397129  \n",
      "Flujo efectivo de operación (CFO)                        80.382775  \n",
      "Activos total al inicio de anio                          79.904306  \n",
      "Ventas                                                   70.813397  \n",
      "Ventas del anio (diferencia)                             71.770335  \n",
      "Cuentas por cobrar                                       76.076555  \n",
      "Cuentas por cobrar (diferencia)                          76.555024  \n",
      "Propiedades, planta y equipo (PPE)                       72.727273  \n"
     ]
    },
    {
     "data": {
      "text/html": [
       "<pre style=\"white-space:pre;overflow-x:auto;line-height:normal;font-family:Menlo,'DejaVu Sans Mono',consolas,'Courier New',monospace\"></pre>\n"
      ],
      "text/plain": []
     },
     "metadata": {},
     "output_type": "display_data"
    },
    {
     "data": {
      "text/markdown": [
       "#### 4. Análisis Detallado de Variables Categóricas"
      ],
      "text/plain": [
       "\u001b[1m<\u001b[0m\u001b[1;95mIPython.core.display.Markdown\u001b[0m\u001b[39m object\u001b[0m\u001b[1m>\u001b[0m"
      ]
     },
     "metadata": {},
     "output_type": "display_data"
    },
    {
     "name": "stdout",
     "output_type": "stream",
     "text": [
      "\n",
      "--- Distribución de 'RUT' ---\n",
      "RUT\n",
      "76000957-1    11\n",
      "76079669-7    11\n",
      "78840880-3    11\n",
      "96701340-4    11\n",
      "77116500-1    11\n",
      "86542100-1    11\n",
      "96790240-3    11\n",
      "79587210-8    11\n",
      "76727040-2    11\n",
      "96567040-8    11\n",
      "77762940-9    11\n",
      "78126110-6    11\n",
      "89468900-5    11\n",
      "94621000-5    11\n",
      "85272800-0    11\n",
      "85306000-3    11\n",
      "76038806-8    11\n",
      "78928380-K    11\n",
      "61704000-K    11\n",
      "Name: count, dtype: int64\n",
      "\n",
      "Porcentajes para 'RUT':\n",
      "  76000957-1: 5.26%\n",
      "  76079669-7: 5.26%\n",
      "  78840880-3: 5.26%\n",
      "  96701340-4: 5.26%\n",
      "  77116500-1: 5.26%\n",
      "  86542100-1: 5.26%\n",
      "  96790240-3: 5.26%\n",
      "  79587210-8: 5.26%\n",
      "  76727040-2: 5.26%\n",
      "  96567040-8: 5.26%\n",
      "  77762940-9: 5.26%\n",
      "  78126110-6: 5.26%\n",
      "  89468900-5: 5.26%\n",
      "  94621000-5: 5.26%\n",
      "  85272800-0: 5.26%\n",
      "  85306000-3: 5.26%\n",
      "  76038806-8: 5.26%\n",
      "  78928380-K: 5.26%\n",
      "  61704000-K: 5.26%\n",
      "\n",
      "--- Distribución de 'EMPRESA' ---\n",
      "EMPRESA\n",
      "ALGORTA NORTE S.A.                                     11\n",
      "MINERA ANTUCOYA                                        11\n",
      "SOCIEDAD CONTRACTUAL MINERA EL MORRO                   11\n",
      "SOCIEDAD CONTRACTUAL MINERA EL ABRA                    11\n",
      "NORTE ABIERTO SPA                                      11\n",
      "MINERA SPENCE S.A.                                     11\n",
      "MINERA LOS PELAMBRES                                   11\n",
      "MINERA ESCONDIDA LIMITADA                              11\n",
      "MINERA CENTINELA                                       11\n",
      "COMPAÑIA MINERA TECK QUEBRADA BLANCA S.A.              11\n",
      "ANGLO AMERICAN SUR S.A. (EX MINERA SUR ANDES LTDA.)    11\n",
      "COMPAÑIA MINERA TECK CARMEN DE ANDACOLLO               11\n",
      "COMPAÑIA MINERA DOÑA INÉS DE COLLAHUASI SCM            11\n",
      "COMPAÑIA MINERA CERRO COLORADO LTDA.                   11\n",
      "COMPAÑIA CONTRACTUAL MINERA CANDELARIA                 11\n",
      "COMPAÑIA MINERA NEVADA SPA                             11\n",
      "COMPAÑIA MINERA MARICUNGA S.A.                         11\n",
      "COMPAÑIA MINERA MANTOS DE ORO                          11\n",
      "CODELCO                                                11\n",
      "Name: count, dtype: int64\n",
      "\n",
      "Porcentajes para 'EMPRESA':\n",
      "  ALGORTA NORTE S.A.: 5.26%\n",
      "  MINERA ANTUCOYA: 5.26%\n",
      "  SOCIEDAD CONTRACTUAL MINERA EL MORRO: 5.26%\n",
      "  SOCIEDAD CONTRACTUAL MINERA EL ABRA: 5.26%\n",
      "  NORTE ABIERTO SPA: 5.26%\n",
      "  MINERA SPENCE S.A.: 5.26%\n",
      "  MINERA LOS PELAMBRES: 5.26%\n",
      "  MINERA ESCONDIDA LIMITADA: 5.26%\n",
      "  MINERA CENTINELA: 5.26%\n",
      "  COMPAÑIA MINERA TECK QUEBRADA BLANCA S.A.: 5.26%\n",
      "  ANGLO AMERICAN SUR S.A. (EX MINERA SUR ANDES LTDA.): 5.26%\n",
      "  COMPAÑIA MINERA TECK CARMEN DE ANDACOLLO: 5.26%\n",
      "  COMPAÑIA MINERA DOÑA INÉS DE COLLAHUASI SCM: 5.26%\n",
      "  COMPAÑIA MINERA CERRO COLORADO LTDA.: 5.26%\n",
      "  COMPAÑIA CONTRACTUAL MINERA CANDELARIA: 5.26%\n",
      "  COMPAÑIA MINERA NEVADA SPA: 5.26%\n",
      "  COMPAÑIA MINERA MARICUNGA S.A.: 5.26%\n",
      "  COMPAÑIA MINERA MANTOS DE ORO: 5.26%\n",
      "  CODELCO: 5.26%\n",
      "\n",
      "--- Distribución de 'COTIZA EN BOLSA' ---\n",
      "COTIZA EN BOLSA\n",
      "NO    209\n",
      "Name: count, dtype: int64\n",
      "\n",
      "Porcentajes para 'COTIZA EN BOLSA':\n",
      "  NO: 100.00%\n",
      "\n",
      "--- Distribución de 'EMP. FAMI' ---\n",
      "EMP. FAMI\n",
      "NO    209\n",
      "Name: count, dtype: int64\n",
      "\n",
      "Porcentajes para 'EMP. FAMI':\n",
      "  NO: 100.00%\n"
     ]
    },
    {
     "data": {
      "text/html": [
       "<pre style=\"white-space:pre;overflow-x:auto;line-height:normal;font-family:Menlo,'DejaVu Sans Mono',consolas,'Courier New',monospace\"></pre>\n"
      ],
      "text/plain": []
     },
     "metadata": {},
     "output_type": "display_data"
    },
    {
     "data": {
      "text/markdown": [
       "#### 5. Estadísticas Descriptivas de Variables Numéricas"
      ],
      "text/plain": [
       "\u001b[1m<\u001b[0m\u001b[1;95mIPython.core.display.Markdown\u001b[0m\u001b[39m object\u001b[0m\u001b[1m>\u001b[0m"
      ]
     },
     "metadata": {},
     "output_type": "display_data"
    },
    {
     "name": "stdout",
     "output_type": "stream",
     "text": [
      "\n",
      "Estadísticas descriptivas de variables numéricas:\n",
      "             ANIO  UTILIDAD NETA  TOTAL ACTIVOS    PATRIMONIO  \\\n",
      "count   209.00000   2.080000e+02   2.050000e+02  2.040000e+02   \n",
      "mean   2018.00000   3.126891e+08   4.992522e+09  2.216568e+09   \n",
      "std       3.16987   8.042437e+08   8.834837e+09  3.397748e+09   \n",
      "min    2013.00000  -2.191000e+09   9.950800e+07 -2.732002e+09   \n",
      "25%    2015.00000  -1.397750e+07   5.557225e+08  1.034202e+08   \n",
      "50%    2018.00000   3.280328e+07   1.744904e+09  7.097656e+08   \n",
      "75%    2021.00000   3.460719e+08   5.446000e+09  3.257718e+09   \n",
      "max    2023.00000   3.889000e+09   4.516600e+10  1.375800e+10   \n",
      "\n",
      "       UTILIDAD OPERACIONAL  DEPRECIACIÓN Y AMORTIZACIÓN         ROA  \\\n",
      "count          1.940000e+02                 1.990000e+02  205.000000   \n",
      "mean           5.450351e+08                 3.291797e+08    0.189845   \n",
      "std            1.096098e+09                 6.739574e+08   20.282811   \n",
      "min           -5.236430e+08                 0.000000e+00 -114.930104   \n",
      "25%           -4.271486e+06                 1.506000e+07   -2.241864   \n",
      "50%            8.951512e+07                 8.107370e+07    2.012494   \n",
      "75%            6.222500e+08                 3.121785e+08    8.821955   \n",
      "max            6.547000e+09                 3.832000e+09   47.668436   \n",
      "\n",
      "               ROE        EBDITA  \\\n",
      "count   204.000000  2.090000e+02   \n",
      "mean     -0.887972  8.193472e+08   \n",
      "std     132.949147  1.535932e+09   \n",
      "min   -1385.510238 -5.193070e+08   \n",
      "25%      -0.563829  3.319000e+05   \n",
      "50%       8.977900  1.232653e+08   \n",
      "75%      21.890479  9.415630e+08   \n",
      "max     349.541641  1.037900e+10   \n",
      "\n",
      "       Cantidad de mujeres en Directorios (incluye suplentes)  \\\n",
      "count                                         208.000000        \n",
      "mean                                            1.062500        \n",
      "std                                             1.171702        \n",
      "min                                             0.000000        \n",
      "25%                                             0.000000        \n",
      "50%                                             1.000000        \n",
      "75%                                             2.000000        \n",
      "max                                             6.000000        \n",
      "\n",
      "       Total en Directorios  Cantidad de mujeres en otros ejecutivos  \\\n",
      "count            208.000000                               209.000000   \n",
      "mean               7.192308                                 0.813397   \n",
      "std                5.008354                                 1.255225   \n",
      "min                0.000000                                 0.000000   \n",
      "25%                6.000000                                 0.000000   \n",
      "50%                7.000000                                 0.000000   \n",
      "75%               10.000000                                 1.000000   \n",
      "max               22.000000                                 6.000000   \n",
      "\n",
      "       Total en otros ejecutivos  Flujo efectivo de operación (CFO)  \\\n",
      "count                 209.000000                       1.690000e+02   \n",
      "mean                    8.564593                       8.029940e+08   \n",
      "std                     6.249376                       1.442150e+09   \n",
      "min                     0.000000                      -1.734580e+08   \n",
      "25%                     4.000000                       6.217846e+06   \n",
      "50%                     8.000000                       1.311450e+08   \n",
      "75%                    11.000000                       1.111900e+09   \n",
      "max                    33.000000                       8.301000e+09   \n",
      "\n",
      "       Activos total al inicio de anio        Ventas  \\\n",
      "count                     1.700000e+02  1.700000e+02   \n",
      "mean                      5.055569e+09  1.411065e+09   \n",
      "std                       9.293410e+09  2.318652e+09   \n",
      "min                       0.000000e+00 -4.769165e+06   \n",
      "25%                       3.715182e+08  1.221475e+06   \n",
      "50%                       1.600594e+09  3.895308e+08   \n",
      "75%                       5.388500e+09  2.286648e+09   \n",
      "max                       4.516600e+10  1.063100e+10   \n",
      "\n",
      "       Ventas del anio (diferencia)  Cuentas por cobrar  \\\n",
      "count                  1.710000e+02        1.660000e+02   \n",
      "mean                  -1.405543e+07        3.293126e+08   \n",
      "std                    9.821150e+08        6.303989e+08   \n",
      "min                   -8.839127e+09        0.000000e+00   \n",
      "25%                   -4.738500e+07        1.530675e+07   \n",
      "50%                    0.000000e+00        7.828164e+07   \n",
      "75%                    5.199150e+07        4.059173e+08   \n",
      "max                    5.231138e+09        4.194350e+09   \n",
      "\n",
      "       Cuentas por cobrar (diferencia)  Propiedades, planta y equipo (PPE)  \n",
      "count                     1.700000e+02                        1.630000e+02  \n",
      "mean                     -1.361292e+07                        3.438723e+09  \n",
      "std                       3.643569e+08                        6.313525e+09  \n",
      "min                      -4.194350e+09                        0.000000e+00  \n",
      "25%                      -1.890740e+07                        2.600905e+08  \n",
      "50%                       0.000000e+00                        6.929680e+08  \n",
      "75%                       2.440799e+07                        3.937704e+09  \n",
      "max                       9.450330e+08                        3.044989e+10  \n",
      "\n",
      "================================================================================\n",
      "\n"
     ]
    },
    {
     "data": {
      "text/html": [
       "<pre style=\"white-space:pre;overflow-x:auto;line-height:normal;font-family:Menlo,'DejaVu Sans Mono',consolas,'Courier New',monospace\"></pre>\n"
      ],
      "text/plain": []
     },
     "metadata": {},
     "output_type": "display_data"
    },
    {
     "data": {
      "text/markdown": [
       "### Hoja: LISTADO EMPRESA"
      ],
      "text/plain": [
       "\u001b[1m<\u001b[0m\u001b[1;95mIPython.core.display.Markdown\u001b[0m\u001b[39m object\u001b[0m\u001b[1m>\u001b[0m"
      ]
     },
     "metadata": {},
     "output_type": "display_data"
    },
    {
     "data": {
      "text/html": [
       "<pre style=\"white-space:pre;overflow-x:auto;line-height:normal;font-family:Menlo,'DejaVu Sans Mono',consolas,'Courier New',monospace\"></pre>\n"
      ],
      "text/plain": []
     },
     "metadata": {},
     "output_type": "display_data"
    },
    {
     "data": {
      "text/markdown": [
       "---"
      ],
      "text/plain": [
       "\u001b[1m<\u001b[0m\u001b[1;95mIPython.core.display.Markdown\u001b[0m\u001b[39m object\u001b[0m\u001b[1m>\u001b[0m"
      ]
     },
     "metadata": {},
     "output_type": "display_data"
    },
    {
     "data": {
      "text/html": [
       "<pre style=\"white-space:pre;overflow-x:auto;line-height:normal;font-family:Menlo,'DejaVu Sans Mono',consolas,'Courier New',monospace\"></pre>\n"
      ],
      "text/plain": []
     },
     "metadata": {},
     "output_type": "display_data"
    },
    {
     "data": {
      "text/markdown": [
       "#### 1. Número de Filas y Columnas"
      ],
      "text/plain": [
       "\u001b[1m<\u001b[0m\u001b[1;95mIPython.core.display.Markdown\u001b[0m\u001b[39m object\u001b[0m\u001b[1m>\u001b[0m"
      ]
     },
     "metadata": {},
     "output_type": "display_data"
    },
    {
     "name": "stdout",
     "output_type": "stream",
     "text": [
      "La hoja 'LISTADO EMPRESA' tiene 35 filas y 8 columnas.\n"
     ]
    },
    {
     "data": {
      "text/html": [
       "<pre style=\"white-space:pre;overflow-x:auto;line-height:normal;font-family:Menlo,'DejaVu Sans Mono',consolas,'Courier New',monospace\"></pre>\n"
      ],
      "text/plain": []
     },
     "metadata": {},
     "output_type": "display_data"
    },
    {
     "data": {
      "text/markdown": [
       "#### 2. Tipos de Datos y Valores Faltantes"
      ],
      "text/plain": [
       "\u001b[1m<\u001b[0m\u001b[1;95mIPython.core.display.Markdown\u001b[0m\u001b[39m object\u001b[0m\u001b[1m>\u001b[0m"
      ]
     },
     "metadata": {},
     "output_type": "display_data"
    },
    {
     "name": "stdout",
     "output_type": "stream",
     "text": [
      "Información general del DataFrame:\n",
      "<class 'pandas.core.frame.DataFrame'>\n",
      "RangeIndex: 35 entries, 0 to 34\n",
      "Data columns (total 8 columns):\n",
      " #   Column                 Non-Null Count  Dtype \n",
      "---  ------                 --------------  ----- \n",
      " 0   RUT                    35 non-null     object\n",
      " 1   EMPRESA                35 non-null     object\n",
      " 2   PAÍS DE ORIGEN         35 non-null     object\n",
      " 3   ORIGEN NACIONAL        35 non-null     object\n",
      " 4   PROPIETARIO PRINCIPAL  35 non-null     object\n",
      " 5   PROPIETARIO NACIONAL   35 non-null     object\n",
      " 6   TIPO DE EMPRESA        35 non-null     object\n",
      " 7   TIPO DE MINERAL        35 non-null     object\n",
      "dtypes: object(8)\n",
      "memory usage: 2.3+ KB\n",
      "\n",
      "==================================================\n",
      "✓ No hay valores faltantes en esta hoja.\n"
     ]
    },
    {
     "data": {
      "text/html": [
       "<pre style=\"white-space:pre;overflow-x:auto;line-height:normal;font-family:Menlo,'DejaVu Sans Mono',consolas,'Courier New',monospace\"></pre>\n"
      ],
      "text/plain": []
     },
     "metadata": {},
     "output_type": "display_data"
    },
    {
     "data": {
      "text/markdown": [
       "#### 3. Análisis de Valores Únicos"
      ],
      "text/plain": [
       "\u001b[1m<\u001b[0m\u001b[1;95mIPython.core.display.Markdown\u001b[0m\u001b[39m object\u001b[0m\u001b[1m>\u001b[0m"
      ]
     },
     "metadata": {},
     "output_type": "display_data"
    },
    {
     "name": "stdout",
     "output_type": "stream",
     "text": [
      "\n",
      "Número de valores únicos por columna:\n",
      "==================================================\n",
      "                       Valores Únicos  Porcentaje (%)\n",
      "RUT                                35      100.000000\n",
      "EMPRESA                            35      100.000000\n",
      "PAÍS DE ORIGEN                      4       11.428571\n",
      "ORIGEN NACIONAL                     2        5.714286\n",
      "PROPIETARIO PRINCIPAL              18       51.428571\n",
      "PROPIETARIO NACIONAL                2        5.714286\n",
      "TIPO DE EMPRESA                     2        5.714286\n",
      "TIPO DE MINERAL                    12       34.285714\n"
     ]
    },
    {
     "data": {
      "text/html": [
       "<pre style=\"white-space:pre;overflow-x:auto;line-height:normal;font-family:Menlo,'DejaVu Sans Mono',consolas,'Courier New',monospace\"></pre>\n"
      ],
      "text/plain": []
     },
     "metadata": {},
     "output_type": "display_data"
    },
    {
     "data": {
      "text/markdown": [
       "#### 4. Análisis Detallado de Variables Categóricas"
      ],
      "text/plain": [
       "\u001b[1m<\u001b[0m\u001b[1;95mIPython.core.display.Markdown\u001b[0m\u001b[39m object\u001b[0m\u001b[1m>\u001b[0m"
      ]
     },
     "metadata": {},
     "output_type": "display_data"
    },
    {
     "name": "stdout",
     "output_type": "stream",
     "text": [
      "\n",
      "--- Variable 'RUT' ---\n",
      "Tiene 35 valores únicos (demasiados para mostrar distribución completa).\n",
      "Primeros 10 valores más frecuentes:\n",
      "RUT\n",
      "76000957-1    1\n",
      "78338570-8    1\n",
      "96790240-3    1\n",
      "99529080-4    1\n",
      "86542100-1    1\n",
      "77116500-1    1\n",
      "99531960-8    1\n",
      "76081590-K    1\n",
      "96701340-4    1\n",
      "79587210-8    1\n",
      "Name: count, dtype: int64\n",
      "\n",
      "--- Variable 'EMPRESA' ---\n",
      "Tiene 35 valores únicos (demasiados para mostrar distribución completa).\n",
      "Primeros 10 valores más frecuentes:\n",
      "EMPRESA\n",
      "ALGORTA NORTE S.A.                                    1\n",
      "SOCIEDAD CONTRACTUAL MINERA ATACAMA MINERALS CHILE    1\n",
      "MINERA LOS PELAMBRES                                  1\n",
      "MINERA SANTO DOMINGO SCM                              1\n",
      "MINERA SPENCE S.A.                                    1\n",
      "NORTE ABIERTO SPA                                     1\n",
      "SCM MINERA LUMINA COPPER CHILE                        1\n",
      "SIERRA GORDA SCM                                      1\n",
      "SOCIEDAD CONTRACTUAL MINERA EL ABRA                   1\n",
      "MINERA ESCONDIDA LIMITADA                             1\n",
      "Name: count, dtype: int64\n",
      "\n",
      "--- Distribución de 'PAÍS DE ORIGEN' ---\n",
      "PAÍS DE ORIGEN\n",
      "CHILE        32\n",
      "CANADÁ        1\n",
      "AUSTRALIA     1\n",
      "JAPÓN         1\n",
      "Name: count, dtype: int64\n",
      "\n",
      "Porcentajes para 'PAÍS DE ORIGEN':\n",
      "  CHILE: 91.43%\n",
      "  CANADÁ: 2.86%\n",
      "  AUSTRALIA: 2.86%\n",
      "  JAPÓN: 2.86%\n",
      "\n",
      "--- Distribución de 'ORIGEN NACIONAL' ---\n",
      "ORIGEN NACIONAL\n",
      "SI    32\n",
      "NO     3\n",
      "Name: count, dtype: int64\n",
      "\n",
      "Porcentajes para 'ORIGEN NACIONAL':\n",
      "  SI: 91.43%\n",
      "  NO: 8.57%\n",
      "\n",
      "--- Distribución de 'PROPIETARIO PRINCIPAL' ---\n",
      "PROPIETARIO PRINCIPAL\n",
      "CHILE                        6\n",
      "CANADÁ                       6\n",
      "CHILE Y JAPÓN                4\n",
      "CANADÁ Y JAPÓN               2\n",
      "AUSTRALIA                    2\n",
      "JAPÓN                        2\n",
      "REINO UNIDO                  2\n",
      "AUSTRALIA Y REINO UNIDO      1\n",
      "EEUU Y CHILE                 1\n",
      "POLONIA Y JAPÓN              1\n",
      "CANADÁ Y EEUU                1\n",
      "SUIZA                        1\n",
      "SUDRÁFRICA                   1\n",
      "CANADÁ Y CHILE               1\n",
      "REINO UNIDO, SUIZA, JAPÓN    1\n",
      "CHILE Y CANADÁ               1\n",
      "POLONIA                      1\n",
      "EEUU                         1\n",
      "Name: count, dtype: int64\n",
      "\n",
      "Porcentajes para 'PROPIETARIO PRINCIPAL':\n",
      "  CHILE: 17.14%\n",
      "  CANADÁ: 17.14%\n",
      "  CHILE Y JAPÓN: 11.43%\n",
      "  CANADÁ Y JAPÓN: 5.71%\n",
      "  AUSTRALIA: 5.71%\n",
      "  JAPÓN: 5.71%\n",
      "  REINO UNIDO: 5.71%\n",
      "  AUSTRALIA Y REINO UNIDO: 2.86%\n",
      "  EEUU Y CHILE: 2.86%\n",
      "  POLONIA Y JAPÓN: 2.86%\n",
      "  CANADÁ Y EEUU: 2.86%\n",
      "  SUIZA: 2.86%\n",
      "  SUDRÁFRICA: 2.86%\n",
      "  CANADÁ Y CHILE: 2.86%\n",
      "  REINO UNIDO, SUIZA, JAPÓN: 2.86%\n",
      "  CHILE Y CANADÁ: 2.86%\n",
      "  POLONIA: 2.86%\n",
      "  EEUU: 2.86%\n",
      "\n",
      "--- Distribución de 'PROPIETARIO NACIONAL' ---\n",
      "PROPIETARIO NACIONAL\n",
      "NO    22\n",
      "SI    13\n",
      "Name: count, dtype: int64\n",
      "\n",
      "Porcentajes para 'PROPIETARIO NACIONAL':\n",
      "  NO: 62.86%\n",
      "  SI: 37.14%\n",
      "\n",
      "--- Distribución de 'TIPO DE EMPRESA' ---\n",
      "TIPO DE EMPRESA\n",
      "PÚBLICA    31\n",
      "PRIVADA     4\n",
      "Name: count, dtype: int64\n",
      "\n",
      "Porcentajes para 'TIPO DE EMPRESA':\n",
      "  PÚBLICA: 88.57%\n",
      "  PRIVADA: 11.43%\n",
      "\n",
      "--- Distribución de 'TIPO DE MINERAL' ---\n",
      "TIPO DE MINERAL\n",
      "COBRE               15\n",
      "COBRE, ORO           6\n",
      "COBRE, MOLIBDENO     3\n",
      "ORO                  2\n",
      "ORO, PLATA           2\n",
      "YODO                 1\n",
      "ORO, PLATA, ZINC     1\n",
      "COBRE. HIERRO        1\n",
      "YODO, LITIO          1\n",
      "NITRATO, YODO        1\n",
      "LITIO                1\n",
      "LITIO, COBRE         1\n",
      "Name: count, dtype: int64\n",
      "\n",
      "Porcentajes para 'TIPO DE MINERAL':\n",
      "  COBRE: 42.86%\n",
      "  COBRE, ORO: 17.14%\n",
      "  COBRE, MOLIBDENO: 8.57%\n",
      "  ORO: 5.71%\n",
      "  ORO, PLATA: 5.71%\n",
      "  YODO: 2.86%\n",
      "  ORO, PLATA, ZINC: 2.86%\n",
      "  COBRE. HIERRO: 2.86%\n",
      "  YODO, LITIO: 2.86%\n",
      "  NITRATO, YODO: 2.86%\n",
      "  LITIO: 2.86%\n",
      "  LITIO, COBRE: 2.86%\n"
     ]
    },
    {
     "data": {
      "text/html": [
       "<pre style=\"white-space:pre;overflow-x:auto;line-height:normal;font-family:Menlo,'DejaVu Sans Mono',consolas,'Courier New',monospace\"></pre>\n"
      ],
      "text/plain": []
     },
     "metadata": {},
     "output_type": "display_data"
    },
    {
     "data": {
      "text/markdown": [
       "#### 5. Estadísticas Descriptivas de Variables Numéricas"
      ],
      "text/plain": [
       "\u001b[1m<\u001b[0m\u001b[1;95mIPython.core.display.Markdown\u001b[0m\u001b[39m object\u001b[0m\u001b[1m>\u001b[0m"
      ]
     },
     "metadata": {},
     "output_type": "display_data"
    },
    {
     "name": "stdout",
     "output_type": "stream",
     "text": [
      "No hay variables numéricas en esta hoja.\n",
      "\n",
      "================================================================================\n",
      "\n"
     ]
    }
   ],
   "source": [
    "for sheet_name, df in data.items():\n",
    "    display(Markdown(f\"### Hoja: {sheet_name}\"))\n",
    "    display(Markdown(\"---\"))\n",
    "    \n",
    "    # 1. Dimensiones\n",
    "    display(Markdown(\"#### 1. Número de Filas y Columnas\"))\n",
    "    print(f\"La hoja '{sheet_name}' tiene {df.shape[0]:,} filas y {df.shape[1]} columnas.\")\n",
    "    \n",
    "    # 2. Tipos de datos e información general\n",
    "    display(Markdown(\"#### 2. Tipos de Datos y Valores Faltantes\"))\n",
    "    print(\"Información general del DataFrame:\")\n",
    "    df.info()\n",
    "    \n",
    "    # 3. Valores faltantes\n",
    "    print(\"\\n\" + \"=\" * 50)\n",
    "    missing_values = df.isnull().sum()\n",
    "    missing_percent = (missing_values / len(df)) * 100\n",
    "    missing_df = pd.DataFrame({\n",
    "        'Valores Faltantes': missing_values,\n",
    "        'Porcentaje (%)': missing_percent\n",
    "    })\n",
    "    missing_df = missing_df[missing_df['Valores Faltantes'] > 0].sort_values('Valores Faltantes', ascending=False)\n",
    "    \n",
    "    if len(missing_df) > 0:\n",
    "        print(\"Valores faltantes por columna:\")\n",
    "        print(missing_df)\n",
    "    else:\n",
    "        print(\"✓ No hay valores faltantes en esta hoja.\")\n",
    "    \n",
    "    # 4. Análisis de valores únicos\n",
    "    display(Markdown(\"#### 3. Análisis de Valores Únicos\"))\n",
    "    print(\"\\nNúmero de valores únicos por columna:\")\n",
    "    print(\"=\" * 50)\n",
    "    unique_counts = df.nunique()\n",
    "    unique_percentage = (unique_counts / len(df)) * 100\n",
    "    unique_df = pd.DataFrame({\n",
    "        'Valores Únicos': unique_counts,\n",
    "        'Porcentaje (%)': unique_percentage\n",
    "    })\n",
    "    print(unique_df)\n",
    "    \n",
    "    # 5. Análisis de variables categóricas\n",
    "    display(Markdown(\"#### 4. Análisis Detallado de Variables Categóricas\"))\n",
    "    categorical_vars = df.select_dtypes(include=['object']).columns\n",
    "    \n",
    "    if len(categorical_vars) > 0:\n",
    "        for var in categorical_vars:\n",
    "            if df[var].nunique() < 20:  # Solo mostrar si tiene menos de 20 valores únicos\n",
    "                print(f\"\\n--- Distribución de '{var}' ---\")\n",
    "                value_counts = df[var].value_counts()\n",
    "                print(value_counts)\n",
    "                \n",
    "                print(f\"\\nPorcentajes para '{var}':\")\n",
    "                percentages = df[var].value_counts(normalize=True) * 100\n",
    "                for value, percentage in percentages.items():\n",
    "                    print(f\"  {value}: {percentage:.2f}%\")\n",
    "            else:\n",
    "                print(f\"\\n--- Variable '{var}' ---\")\n",
    "                print(f\"Tiene {df[var].nunique():,} valores únicos (demasiados para mostrar distribución completa).\")\n",
    "                print(f\"Primeros 10 valores más frecuentes:\")\n",
    "                print(df[var].value_counts().head(10))\n",
    "    else:\n",
    "        print(\"No hay variables categóricas (tipo 'object') en esta hoja.\")\n",
    "    \n",
    "    # 6. Análisis de variables numéricas\n",
    "    display(Markdown(\"#### 5. Estadísticas Descriptivas de Variables Numéricas\"))\n",
    "    numeric_vars = df.select_dtypes(include=[np.number]).columns\n",
    "    \n",
    "    if len(numeric_vars) > 0:\n",
    "        print(\"\\nEstadísticas descriptivas de variables numéricas:\")\n",
    "        print(df[numeric_vars].describe())\n",
    "    else:\n",
    "        print(\"No hay variables numéricas en esta hoja.\")\n",
    "    \n",
    "    print(\"\\n\" + \"=\" * 80 + \"\\n\")"
   ]
  },
  {
   "cell_type": "markdown",
   "metadata": {},
   "source": [
    "---\n",
    "\n",
    "## Conclusiones Generales\n",
    "\n",
    "Este análisis exploratorio del archivo **\"20250728 DATOS MINERIA.xlsx\"** ha revelado información importante sobre la estructura y calidad de los datos:\n",
    "\n",
    "### 📊 Resumen del Dataset\n",
    "\n",
    "El archivo contiene **2 hojas** con información complementaria sobre el sector minero:\n",
    "\n",
    "1. **BASE DE DATOS** (209 registros × 24 columnas): Dataset principal con información detallada de operaciones mineras\n",
    "2. **LISTADO EMPRESA** (35 registros × 8 columnas): Catálogo de empresas mineras con información corporativa\n",
    "\n",
    "### 🔍 Hallazgos Principales\n",
    "\n",
    "#### Calidad de los Datos\n",
    "- **Hoja \"LISTADO EMPRESA\"**: \n",
    "  - ✅ Excelente calidad de datos - **0% de valores faltantes**\n",
    "  - Todas las columnas están completamente pobladas\n",
    "  - Variables categóricas bien definidas con pocos valores únicos\n",
    "  \n",
    "- **Hoja \"BASE DE DATOS\"**: \n",
    "  - Presenta valores faltantes en algunas columnas (requiere análisis detallado)\n",
    "  - Mayor complejidad con 24 variables diferentes\n",
    "  - Combina variables categóricas y numéricas\n",
    "\n",
    "#### Estructura de Variables\n",
    "- **Variables categóricas**: Identificadas correctamente (tipo 'object')\n",
    "- **Variables numéricas**: Presentes principalmente en la hoja \"BASE DE DATOS\"\n",
    "- **Variables identificadoras**: RUT y EMPRESA son únicos (100% de unicidad)\n",
    "\n",
    "#### Patrones Identificados\n",
    "- **Origen de empresas**: Concentración en pocos países de origen (4 países únicos)\n",
    "- **Clasificación binaria**: Variables como ORIGEN NACIONAL, PROPIETARIO NACIONAL y TIPO DE EMPRESA tienen solo 2 categorías\n",
    "- **Diversidad de minerales**: 12 tipos diferentes de minerales en el catálogo\n",
    "\n",
    "### 📈 Insights Clave\n",
    "\n",
    "1. **Completitud de datos en catálogo de empresas**: La hoja \"LISTADO EMPRESA\" está perfectamente estructurada sin valores faltantes\n",
    "2. **Identificadores únicos robustos**: RUT y EMPRESA pueden servir como llaves primarias confiables\n",
    "3. **Variables categóricas bien definidas**: La mayoría de las variables categóricas tienen cardinalidad apropiada (<20 valores únicos)\n",
    "4. **Base analítica sólida**: Los datos permiten análisis por tipo de empresa, origen, propietario y tipo de mineral\n",
    "\n",
    "### 🎯 Próximos Pasos Recomendados\n",
    "\n",
    "1. **Análisis de valores faltantes**: \n",
    "   - Investigar en detalle qué columnas tienen datos faltantes en \"BASE DE DATOS\"\n",
    "   - Determinar si los valores faltantes son MCAR, MAR o MNAR\n",
    "   - Definir estrategias de imputación o exclusión\n",
    "\n",
    "2. **Análisis de relaciones**:\n",
    "   - Explorar la relación entre las dos hojas mediante RUT/EMPRESA\n",
    "   - Identificar correlaciones entre variables numéricas\n",
    "   - Analizar distribuciones por categorías clave\n",
    "\n",
    "3. **Visualizaciones**:\n",
    "   - Crear gráficos de barras para distribución de tipos de empresa y minerales\n",
    "   - Mapas de calor para valores faltantes\n",
    "   - Histogramas y boxplots para variables numéricas\n",
    "\n",
    "4. **Validación de datos**:\n",
    "   - Verificar formatos de RUT\n",
    "   - Identificar posibles duplicados o inconsistencias\n",
    "   - Validar rangos de variables numéricas\n",
    "\n",
    "5. **Análisis de género** (según objetivo del proyecto):\n",
    "   - Identificar variables relacionadas con género si existen\n",
    "   - Explorar patrones de participación por género en el sector\n",
    "   - Preparar datos para análisis estadístico de brechas de género\n",
    "\n",
    "### 💡 Observaciones Finales\n",
    "\n",
    "El dataset presenta una **estructura adecuada** para análisis exploratorios y modelado. La hoja de empresas está **lista para uso inmediato**, mientras que la base de datos principal requiere **limpieza y preparación adicional**. La combinación de ambas hojas permite un análisis multinivel desde la perspectiva corporativa hasta las operaciones individuales."
   ]
  }
 ],
 "metadata": {
  "kernelspec": {
   "display_name": "kotari-gender-data-analysis",
   "language": "python",
   "name": "python3"
  },
  "language_info": {
   "codemirror_mode": {
    "name": "ipython",
    "version": 3
   },
   "file_extension": ".py",
   "mimetype": "text/x-python",
   "name": "python",
   "nbconvert_exporter": "python",
   "pygments_lexer": "ipython3",
   "version": "3.11.10"
  }
 },
 "nbformat": 4,
 "nbformat_minor": 2
}
